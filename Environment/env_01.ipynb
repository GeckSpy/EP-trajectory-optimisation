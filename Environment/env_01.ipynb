{
 "cells": [
  {
   "cell_type": "markdown",
   "metadata": {},
   "source": [
    "# Creating gymnasium environment"
   ]
  },
  {
   "cell_type": "markdown",
   "metadata": {},
   "source": [
    "This environment goal: a simple $N \\times N$ grid with black(wall) and white(track)\n",
    "\n",
    "Car (Blue car) moving : Up, Down, Right, Left\n",
    "\n",
    "End: Red\n",
    "\n",
    "Start: Start\n",
    "\n",
    "Observation grid: $n \\times n$ with $n \\leq N$"
   ]
  },
  {
   "cell_type": "markdown",
   "metadata": {},
   "source": [
    "Important function for environment\n",
    " - reset() : Resets the environment to an initial state, required before calling step.\n",
    "             Returns the first agent observation for an episode and information, i.e. metrics, debug info.\n",
    "\n",
    " - step()  : Updates an environment with actions returning the next agent observation, the reward for taking that actions,\n",
    "             if the environment has terminated or truncated due to the latest action and information from the environment about the step, i.e. metrics, debug info.\n",
    "\n",
    " - render(): Renders the environments to help visualize what the agent see, examples modes are “human”, “rgb_array”, “ansi” for text.\n",
    "\n",
    " - close() : Closes the environment, important when external software is used, i.e. pygame for rendering, databases."
   ]
  },
  {
   "cell_type": "markdown",
   "metadata": {},
   "source": [
    "We inherit the \"Env\" class of Gymnasium and redefine these 4 functions to have access to already existing function and good compatibility."
   ]
  },
  {
   "cell_type": "markdown",
   "metadata": {},
   "source": [
    "During initialization, we define several critical aspects:\n",
    " - Action space: A set of all possible actions that an agent can take in the environment.\n",
    "        It’s a way to outline what actions are available for the agent to choose from at any given step\n",
    "\n",
    " - Observation space: A size or shape of the observations that the agent receives from the environment.\n",
    "        Essentially, it describes the form and structure of the data the agent uses to make decisions.\n",
    "\n",
    " - Initial state: A starting state of the agent when the environment is initialized."
   ]
  },
  {
   "cell_type": "code",
   "execution_count": 8,
   "metadata": {},
   "outputs": [],
   "source": [
    "import numpy as np\n",
    "import matplotlib.pyplot as plt\n",
    "from IPython import display\n",
    "import random as rd\n",
    "import time\n",
    "\n",
    "from gym import Env, spaces"
   ]
  },
  {
   "cell_type": "code",
   "execution_count": 9,
   "metadata": {},
   "outputs": [
    {
     "data": {
      "image/png": "[encoded data removed]",
      "text/plain": [
       "<Figure size 640x480 with 1 Axes>"
      ]
     },
     "metadata": {},
     "output_type": "display_data"
    },
    {
     "name": "stdout",
     "output_type": "stream",
     "text": [
      "start at coordinates: (4, 0)\n"
     ]
    }
   ],
   "source": [
    "class Coor():\n",
    "    def __init__(self, coor):\n",
    "        self.x = coor[0]\n",
    "        self.y = coor[1]\n",
    "\n",
    "    def get(self):\n",
    "        return self.x, self.y\n",
    "    \n",
    "    def __str__(self):\n",
    "        return \"(\" + str(self.x) + \", \" + str(self.y) + \")\"\n",
    "    \n",
    "    def __add__(self, coor2):\n",
    "        return Coor((self.x + coor2.x, self.y + coor2.y))\n",
    "    \n",
    "    def __eq__(self, coor2):\n",
    "        return (self.x==coor2.x) and (self.y==coor2.y)\n",
    "    \n",
    "    def dist(self, coor2):\n",
    "        a,b = self.get()\n",
    "        c,d = self.get()\n",
    "        return np.sqrt(a*c + b*d)\n",
    "\n",
    "\n",
    "N = 5\n",
    "n = 5\n",
    "\n",
    "RED = [255, 0, 0]\n",
    "GREEN = [0, 255, 0]\n",
    "BLUE = [0, 0, 255]\n",
    "GREY = [70 for _ in range(3)]\n",
    "WHITE = [255 for _ in range(3)]\n",
    "\n",
    "START_CHAR = \"s\"\n",
    "END_CHAR = \"e\"\n",
    "\n",
    "def color(b):\n",
    "    if b == START_CHAR:\n",
    "        return GREEN\n",
    "    elif b == END_CHAR:\n",
    "        return RED\n",
    "    elif b == 1:\n",
    "        return GREY\n",
    "    else:\n",
    "        return WHITE\n",
    "\n",
    "\n",
    "class Track():\n",
    "    def __init__(self, tab):\n",
    "        self.height = len(tab)\n",
    "        self.width = len((tab[0]))\n",
    "        self.info_track = tab\n",
    "        self.color_track = [[color(x) for x in y] for y in tab]\n",
    "\n",
    "        self.end = None\n",
    "        self.start = None\n",
    "        for i in range(self.height):\n",
    "            for j in range(self.width):\n",
    "                if tab[i][j] == START_CHAR:\n",
    "                    self.start = Coor((i,j))\n",
    "                if tab[i][j] == END_CHAR:\n",
    "                    self.end = Coor((i,j))\n",
    "\n",
    "    def get_color(self, coor:Coor):\n",
    "        \"\"\"return the color of the case x,y\"\"\"\n",
    "        x,y = coor.get()\n",
    "        return color(self.info_track[x][y])\n",
    "    \n",
    "    def is_wall(self, coor:Coor):\n",
    "        \"\"\"Return True if case (x,y) is a wall\"\"\"\n",
    "        x,y = coor.get()\n",
    "        return (self.info_track[x][y] == 1)\n",
    "\n",
    "    def get_start(self):\n",
    "        \"\"\"Return coordinate of start\"\"\"\n",
    "        return self.start.get()\n",
    "    \n",
    "    def get_end(self):\n",
    "        \"\"\"Return coordinate of end\"\"\"\n",
    "        return self.end.get()\n",
    "\n",
    "    def plot(self):\n",
    "        \"\"\"Plot the track using matplotlib\"\"\"\n",
    "        plt.imshow(self.color_track)\n",
    "        plt.axis(\"off\")\n",
    "        plt.show()\n",
    "\n",
    "\n",
    "track_1_bool = [[1, 1, 1, 1, \"e\"],\n",
    "                [1, 1, 1, 0, 0],\n",
    "                [1, 1, 0, 0, 0],\n",
    "                [1, 0, 0, 0, 0],\n",
    "                [\"s\", 0, 0, 0, 1]]\n",
    "\n",
    "track_1 = Track(track_1_bool)\n",
    "track_1.plot()\n",
    "print(\"start at coordinates:\", track_1.get_start())"
   ]
  },
  {
   "cell_type": "code",
   "execution_count": 10,
   "metadata": {},
   "outputs": [],
   "source": [
    "CAR_ICON = [[BLUE]]"
   ]
  },
  {
   "cell_type": "code",
   "execution_count": 11,
   "metadata": {},
   "outputs": [],
   "source": [
    "class MyEnv(Env):\n",
    "    def __init__(self, track: Track):\n",
    "        super(MyEnv, self).__init__()\n",
    "\n",
    "        # Define a 2-D observation space\n",
    "        self.observation_shape = (N, N, 3)\n",
    "        self.observation_space = spaces.Box(low = np.zeros(self.observation_shape), \n",
    "                                            high = np.ones(self.observation_shape),\n",
    "                                            dtype = np.int64)\n",
    "\n",
    "        # Define an action space ranging from 0 to 3\n",
    "        self.action_space = [i for i in range(4)]\n",
    "\n",
    "        self.track = track\n",
    "        self.car = Coor(self.track.get_start())\n",
    "        # self.car_icon = cv2.imread(\"blue_dot.png\") /255\n",
    "        self.car_icon = np.array(CAR_ICON)\n",
    "\n",
    "        self.canvas = np.array(self.track.color_track)\n",
    "\n",
    "        # self.action_meanings = {0: \"Right\", 1: \"Left\", 2: \"Down\", 3: \"Up\"}\n",
    "\n",
    "\n",
    "    def draw_car(self):\n",
    "        \"\"\"Add the car_icon to the canvas\"\"\"\n",
    "        car_shape = self.car_icon.shape\n",
    "        x,y = self.car.get()\n",
    "        self.canvas[x:x + car_shape[1], y:y + car_shape[0]] = self.car_icon\n",
    "\n",
    "    def reset(self):\n",
    "        \"\"\"Reset the environment\"\"\"\n",
    "        self.car = Coor(self.track.get_start())\n",
    "        self.canvas = np.array(self.track.color_track)\n",
    "        self.draw_car()\n",
    "        return self.canvas\n",
    "\n",
    "    def render(self, mode = \"human\", waiting_time=0.1):\n",
    "        \"\"\"Render the environment\"\"\"\n",
    "        assert mode in [\"human\", \"rgb_array\"], \"Invalid mode, must be either \\\"human\\\" or \\\"rgb_array\\\"\"\n",
    "        self.canvas = np.array(self.track.color_track)\n",
    "        self.draw_car()\n",
    "        if mode == \"human\":\n",
    "            plt.imshow(self.canvas)\n",
    "            plt.axis(\"off\")\n",
    "            display.clear_output(wait=True)\n",
    "            plt.show()\n",
    "            time.sleep(waiting_time)\n",
    "    \n",
    "        elif mode == \"rgb_array\":\n",
    "            return self.canvas\n",
    "        \n",
    "\n",
    "    def move(self, action):\n",
    "        \"\"\"Return the move cooresponding to action\"\"\"\n",
    "        if action == 0:\n",
    "            return Coor((0, 1))\n",
    "        elif action == 1:\n",
    "            return Coor((0, -1))\n",
    "        elif action == 2:\n",
    "            return Coor((1, 0)) #because top is at row 0\n",
    "        else:\n",
    "            return Coor((-1,0))\n",
    "\n",
    "    def is_case_ridable(self, coor: Coor):\n",
    "        \"\"\"Return if the car can go on the case or not\"\"\"\n",
    "        x,y = coor.get()\n",
    "        if not (x>=0 and x<self.track.height and y>=0 and y<self.track.width):\n",
    "            return False\n",
    "        return not self.track.is_wall(coor)\n",
    "    \n",
    "    def possible_action(self):\n",
    "        \"\"\"Return a list of possible action according to the coordinates of the car\"\"\"\n",
    "        actions = []\n",
    "        if self.is_case_ridable(self.car + Coor((0,-1))):\n",
    "            actions.append(1)\n",
    "        if self.is_case_ridable(self.car + Coor((0, 1))):\n",
    "            actions.append(0)\n",
    "        if self.is_case_ridable(self.car + Coor((1, 0))):\n",
    "            actions.append(2)\n",
    "        if self.is_case_ridable(self.car + Coor((-1,0))):\n",
    "            actions.append(3)\n",
    "        return actions\n",
    "        \n",
    "    def step(self, action):\n",
    "        \"\"\"Do a step, we suppose that the action is a possible one\"\"\"\n",
    "        is_done = False\n",
    "        reward = -1\n",
    "\n",
    "        mv = self.move(action)\n",
    "        next_move = self.car + mv\n",
    "        reward += next_move.dist(self.track.end) - self.car.dist(self.track.end)\n",
    "        self.car = next_move\n",
    "\n",
    "        if self.car == self.track.end:\n",
    "            reward = 200\n",
    "            is_done = True\n",
    "\n",
    "        return self.canvas, reward, is_done, []\n",
    "    \n",
    "    def random_action(self):\n",
    "        \"\"\"Return random possible action\"\"\"\n",
    "        return rd.choice(self.possible_action())\n",
    "        \n",
    "        \n",
    "\n",
    "env = MyEnv(track_1)\n",
    "obs = env.reset()"
   ]
  },
  {
   "cell_type": "code",
   "execution_count": 12,
   "metadata": {},
   "outputs": [
    {
     "data": {
      "image/png": "[encoded data removed]",
      "text/plain": [
       "<Figure size 640x480 with 1 Axes>"
      ]
     },
     "metadata": {},
     "output_type": "display_data"
    },
    {
     "name": "stdout",
     "output_type": "stream",
     "text": [
      "number of steps: 84\n"
     ]
    }
   ],
   "source": [
    "running = True\n",
    "step = 0\n",
    "while running:\n",
    "    step += 1\n",
    "    # Take a random action\n",
    "    action = env.random_action()\n",
    "    obs, reward, done, info = env.step(action)\n",
    "\n",
    "    # Render the game\n",
    "    env.render(waiting_time=0.01)\n",
    "\n",
    "    if done == True or step > 1000:\n",
    "        running = False\n",
    "\n",
    "print(\"number of steps:\", step)\n",
    "\n",
    "env.close()"
   ]
  }
 ],
 "metadata": {
  "kernelspec": {
   "display_name": "Python 3",
   "language": "python",
   "name": "python3"
  },
  "language_info": {
   "codemirror_mode": {
    "name": "ipython",
    "version": 3
   },
   "file_extension": ".py",
   "mimetype": "text/x-python",
   "name": "python",
   "nbconvert_exporter": "python",
   "pygments_lexer": "ipython3",
   "version": "3.10.12"
  }
 },
 "nbformat": 4,
 "nbformat_minor": 2
}
