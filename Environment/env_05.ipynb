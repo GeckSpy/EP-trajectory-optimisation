{
 "cells": [
  {
   "cell_type": "markdown",
   "metadata": {},
   "source": [
    "# Creating gymnasium environment"
   ]
  },
  {
   "cell_type": "markdown",
   "metadata": {
    "notebookRunGroups": {
     "groupValue": "1"
    }
   },
   "source": [
    "# /!\\ UNFINISHED"
   ]
  },
  {
   "cell_type": "markdown",
   "metadata": {},
   "source": [
    "### How to adapt this notebook to your environment ?"
   ]
  },
  {
   "cell_type": "markdown",
   "metadata": {
    "notebookRunGroups": {
     "groupValue": "1"
    }
   },
   "source": [
    "DQN :\n",
    "- The input size of the nn depends on the size of the input state : adapt the size of the first layer \n",
    "\n",
    "Env: \n",
    "- Don't modify :\n",
    "    - policy \n",
    "    - random_action \n",
    "\n",
    "- Modify :\n",
    "    - init :\n",
    "        - n_action : we assume the action space to be finite, and we hope small \n",
    "        - done : this attribute say if the episode is finished, it needs to be set to true when we do the reset, and we need to update in the function step\n",
    "        - every attribute you need to build the function step, state, show_state\n",
    "    - state : must return a batch of size 1 : \n",
    "        - typically our state is a vector of size say d, so a tensor of size (d). Here we want the function \n",
    "            to return a batch of size one , so we return a vector of size (1,d) e.g [t] where t is our size \n",
    "    - show_state \n",
    "    - reset : must update the attribute done, and your internal attribute that give the current state of the episode\n",
    "    - step : take an action as a tensor (we access it by action.item() ) and returns a namedtuple Transition \n",
    "    with 4 coordinates (state,action,next_state,reward) \n",
    "            - every reward must be in [0,1] to make easier the hyperparameter finetuning\n",
    "            - state and next_state must be a batch of size one (as for the function state)\n",
    "            - action should be a batch of size one\n",
    "            - if the episode is finished after the action, next_state must be None"
   ]
  },
  {
   "cell_type": "markdown",
   "metadata": {},
   "source": [
    "### Explanations"
   ]
  },
  {
   "cell_type": "markdown",
   "metadata": {},
   "source": [
    "The environment is:\n",
    " - A $N \\times M$ grid of cases with $N,M \\in \\mathbb{N}$ supposed to be a loop track.\n",
    " - Each case is in $\\{0,1,3,4\\}$ such that:\n",
    "   - $0 \\rightarrow$ road (white)\n",
    "   - $1 \\rightarrow$ wall (black)\n",
    "   - $STAR\\_ CHAR$ (3) $\\rightarrow$ starting point\n",
    "\n",
    " - A Car that follow some model for trajectory. The car can do the next action:\n",
    "   - accelerate (add $1$ to car speed)\n",
    "   - brake (divide the car speed by $1.5$)\n",
    "   - turn (need to specify the angle)\n",
    "   - do nothing\n",
    "  \n",
    " - Possible Actions $(a,b) \\in \\{-1,0,1\\} \\times [-K,K]$ where:\n",
    "   - $a=1$ for acceleration, $-1$ for brake and $0$ for nothing\n",
    "   - $b>0$ for turning left with angle, $b<0$ to turn right and 0 for nothing. Note that a turn, in this environment is always in $[-K,K]$ where $K$ is the value of `env.max_turn` variable.\n",
    "\n",
    " - The state is a $6$ vector $V$. $\\forall i\\in \\{1,2,3,4,5\\}$, $V[i]\\leq$ `env.DMO`\n",
    "   - $V[0]$ is the speed of the car $\\geq 0$\n",
    "   - $V[1]$ is the distance between car and wall in front of it.\n",
    "   - $V[2]$ is the distance between car and wall in its left (90°).\n",
    "   - $V[3]$ is the distance between car and wall in its right (90°).\n",
    "   - $V[4]$ is the distance between car and wall in its left (45°).\n",
    "   - $V[5]$ is the distance between car and wall in its right (45°).\n"
   ]
  },
  {
   "cell_type": "markdown",
   "metadata": {
    "notebookRunGroups": {
     "groupValue": "1"
    }
   },
   "source": [
    "To create your turn/your track, use the grid notation (for better visualisation) like env_01 and env_02. The grid is used with the matrix notation. If we denote the grid by $G$, then $G[0][0]$ is the top left case, $G[x][y]$ is the case on the $x$-th row (from top to bottom) and on the $y$-th column (from left to right).\n",
    "\n",
    "You can also use image for that with balck pixel for wall, white for starting point, any other color will be interpreted as road.\n",
    "\n",
    "Nevertheless, for all the other things, we use axis coordinates, i.e., $G[x][y]$ refer to the case situate at coordinate $(x,y)$. More preciselly, it is the case on the $x$-th column (from left to right) and on the $y$-th row (from bottom to top). Therefore you can simply use `plt.plot(x,y, args**)` for ploting something at coordinate $(x,y)$ (see code for more example)."
   ]
  },
  {
   "cell_type": "markdown",
   "metadata": {
    "notebookRunGroups": {
     "groupValue": "1"
    }
   },
   "source": [
    "### Importing Packages"
   ]
  },
  {
   "cell_type": "code",
   "execution_count": 66,
   "metadata": {},
   "outputs": [],
   "source": [
    "import numpy as np\n",
    "import matplotlib.pyplot as plt\n",
    "from IPython import display\n",
    "import random as rd\n",
    "import time\n",
    "\n",
    "from gym import Env, spaces\n",
    "\n",
    "# For saving files\n",
    "from datetime import datetime"
   ]
  },
  {
   "cell_type": "markdown",
   "metadata": {
    "notebookRunGroups": {
     "groupValue": "1"
    }
   },
   "source": [
    "### Coor class"
   ]
  },
  {
   "cell_type": "code",
   "execution_count": 67,
   "metadata": {},
   "outputs": [],
   "source": [
    "class Coor():\n",
    "    def __init__(self, coor):\n",
    "        self.x = coor[0]\n",
    "        self.y = coor[1]\n",
    "\n",
    "    def get(self):\n",
    "        return self.x, self.y\n",
    "    \n",
    "    def __str__(self):\n",
    "        return \"(\" + str(self.x) + \", \" + str(self.y) + \")\"\n",
    "    \n",
    "    def __add__(self, coor2):\n",
    "        return Coor((self.x + coor2.x, self.y + coor2.y))\n",
    "    \n",
    "    def __eq__(self, coor2):\n",
    "        if coor2 == None:\n",
    "            return False\n",
    "        return (self.x==coor2.x) and (self.y==coor2.y)\n",
    "    \n",
    "    def __neg__(self):\n",
    "        x,y = self.get()\n",
    "        return Coor((-x,-y))\n",
    "    \n",
    "    def __sub__(self, coor2):\n",
    "        coor = - coor2\n",
    "        return self + coor\n",
    "    \n",
    "    def norm(self):\n",
    "        x,y = self.get()\n",
    "        return np.sqrt(x*x + y*y)\n",
    "    \n",
    "    def dist(self, coor2):\n",
    "        return (self -coor2).norm()\n"
   ]
  },
  {
   "cell_type": "markdown",
   "metadata": {},
   "source": [
    "### Track class"
   ]
  },
  {
   "cell_type": "markdown",
   "metadata": {},
   "source": [
    "Contrary to previous environment, track are not matrix anymore."
   ]
  },
  {
   "cell_type": "code",
   "execution_count": 68,
   "metadata": {},
   "outputs": [],
   "source": [
    "RED = [255, 0, 0]\n",
    "GREEN = [0, 255, 0]\n",
    "BLUE = [0, 0, 255]\n",
    "GREY = [70 for _ in range(3)]\n",
    "WHITE = [240 for _ in range(3)]\n",
    "\n",
    "START_CHAR = 2\n",
    "CAR_CHAR = 4\n",
    "\n",
    "def color(b):\n",
    "    if b == START_CHAR:\n",
    "        return GREEN\n",
    "    elif b == 1:\n",
    "        return GREY\n",
    "    else:\n",
    "        return WHITE\n",
    "    \n",
    "\n",
    "class Track():\n",
    "    def __init__(self, tab):\n",
    "        #switching height and width for plan approach\n",
    "        self.height, self.width = np.array(tab).shape\n",
    "        self.basic_info_track:list = np.array(tab)\n",
    "        \n",
    "        self.info_track:list = [[0 for _ in range(self.height)] for _ in range(self.width)]\n",
    "        for x in range(self.width):\n",
    "            for y in range(self.height):\n",
    "                self.info_track[x][y] = self.basic_info_track[self.height-1-y][x]\n",
    "\n",
    "        self.color_track = [[color(self.info_track[x][y]) for x in range(self.width)] for y in range(self.height)]\n",
    "\n",
    "        self.start = None\n",
    "        for y in range(self.height):\n",
    "            for x in range(self.width):\n",
    "                if self.info_track[x][y] == START_CHAR:\n",
    "                    self.start = Coor((x,y))\n",
    "\n",
    "    def get_color(self, coor:Coor):\n",
    "        \"\"\"return the color of the case x,y\"\"\"\n",
    "        x,y = coor.get()\n",
    "        return color(self.info_track[x][y])\n",
    "    \n",
    "    def is_wall(self, coor:Coor):\n",
    "        \"\"\"Return True if case (x,y) is a wall\"\"\"\n",
    "        x,y = coor.get()\n",
    "        nx,ny = int(round(x)), int(round(y))\n",
    "        return (self.info_track[nx][ny] == 1)\n",
    "\n",
    "    def get_start(self):\n",
    "        \"\"\"Return coordinate of start\"\"\"\n",
    "        if self.start == None:\n",
    "            return None\n",
    "        return self.start.get()\n",
    "    \n",
    "    def get_end(self):\n",
    "        \"\"\"Return coordinate of end\"\"\"\n",
    "        return self.end.get()\n",
    "    \n",
    "    def is_case_ridable(self, coor: Coor):\n",
    "        \"\"\"Return if the car can go on the coordinate or not\"\"\"\n",
    "        x,y = coor.get()\n",
    "        x,y = int(round(x)), int(round(y))\n",
    "        if not (x>=0 and x<self.width and y>=0 and y<self.height):\n",
    "            return False\n",
    "        return not self.is_wall(coor)\n",
    "    \n",
    "    def is_move_possible(self, a:Coor, b:Coor) -> bool:\n",
    "        \"\"\"Return if the car can go from point a to b in straight line\"\"\"\n",
    "        diff_x = b.x-a.x\n",
    "        diff_y = b.y-a.y\n",
    "\n",
    "        d = a.dist(b)\n",
    "        if d<1:\n",
    "            d = 1\n",
    "        \n",
    "        space = np.arange(0, 1, 1/d)\n",
    "        for t in space:\n",
    "            case = Coor((a.x+t*diff_x, a.y+t*diff_y))\n",
    "            if not self.is_case_ridable(case):\n",
    "                return False\n",
    "        return True\n",
    "    \n",
    "    def next_wall(self, coor:Coor, alpha:float, dist_max=None):\n",
    "        \"\"\"Return the next in the line from coor to the first wall\"\"\"\n",
    "        alpha = alpha % 360\n",
    "        dx = np.cos(alpha * np.pi/180)\n",
    "        dy = np.sin(alpha * np.pi/180)\n",
    "\n",
    "        i = 0\n",
    "        next_coor = Coor( (int(round(coor.x + i*dx)), int(round(coor.y + i*dy))) )\n",
    "        while self.is_case_ridable(next_coor):\n",
    "            if (dist_max!=None) and (coor.dist(next_coor) > dist_max):\n",
    "                break\n",
    "            i += 1\n",
    "            next_coor  = Coor( (int(round(coor.x + i*dx)), int(round(coor.y + i*dy))) )\n",
    "        return next_coor\n",
    "\n",
    "    def plot(self, hide=False):\n",
    "        \"\"\"Plot the track using matplotlib\"\"\"\n",
    "        plt.imshow(self.color_track, origin='lower')\n",
    "        plt.axis(\"off\")\n",
    "        if not hide:\n",
    "            plt.show()\n"
   ]
  },
  {
   "cell_type": "markdown",
   "metadata": {},
   "source": [
    "### Creating the track"
   ]
  },
  {
   "cell_type": "code",
   "execution_count": 69,
   "metadata": {},
   "outputs": [],
   "source": [
    "path = \"../tracks/03.png\"\n",
    "\n",
    "from matplotlib.image import imread\n",
    "from PIL import Image\n",
    "\n",
    "def info_from_real_color(tab):\n",
    "    x,y,z = tab[0], tab[1], tab[2]\n",
    "    if x==0 and y==0 and z==0:\n",
    "        return 1\n",
    "    elif x==255 and y==255 and z==255:\n",
    "        return START_CHAR\n",
    "    else:\n",
    "        return 0\n",
    "\n",
    "def create_track_info(path):\n",
    "    img = Image.open(path)\n",
    "    arr = np.array(img)\n",
    "    img.close()\n",
    "    return [[info_from_real_color(y) for y in x] for x in arr]"
   ]
  },
  {
   "cell_type": "markdown",
   "metadata": {},
   "source": [
    "### Car class"
   ]
  },
  {
   "cell_type": "markdown",
   "metadata": {},
   "source": [
    "Car has $2$ main variable:\n",
    " - speed: $v$\n",
    " - alpha: $\\alpha$ suppose to be between $0$ and $360$\n",
    "\n",
    "To calculate the $x$-speed and $y$-speed we use the next formulas:\n",
    " - $v_x = v.cos(\\alpha . \\frac{\\pi}{180})$\n",
    " - $v_y = v.sin(\\alpha . \\frac{\\pi}{180})$"
   ]
  },
  {
   "cell_type": "code",
   "execution_count": 70,
   "metadata": {
    "notebookRunGroups": {
     "groupValue": "1"
    }
   },
   "outputs": [],
   "source": [
    "\"\"\"Constant\"\"\"\n",
    "MAX_SPEED = 50\n",
    "MAX_TURN = 40\n",
    "\n",
    "\"\"\"Class\"\"\"\n",
    "class Car():\n",
    "    def __init__(self, coor:Coor):\n",
    "        self.coor: Coor = Coor((coor.x, coor.y))\n",
    "        self.speed: float = 0\n",
    "        self.alpha: float = 0 # The angle of the car according to unitary cicrle\n",
    "        self.trajectory = [[Coor((coor.x, coor.y)), 0]]\n",
    "        self.previous_speed: float = 0\n",
    "\n",
    "    def __str__(self):\n",
    "        return \"C[\" + str(self.coor) + \" \" + str(self.speed) + \" \" + str(self.alpha) + \"]\"\n",
    "    \n",
    "\n",
    "    def accelerate(self, amont=1):\n",
    "        \"\"\"Increase speed of the car\"\"\"\n",
    "        acceleration_constant = 3\n",
    "        self.speed += acceleration_constant*amont\n",
    "        self.speed = min(self.speed, MAX_SPEED)\n",
    "        \n",
    "\n",
    "    def brake(self, amont=1):\n",
    "        \"\"\"Decrease speed of the car (can't drive backward)\"\"\"\n",
    "        brake_constant = 1.4\n",
    "        self.speed /= (brake_constant*amont)\n",
    "        if self.speed < 0.01:\n",
    "            self.speed = 0\n",
    "\n",
    "    def turn(self, deg):\n",
    "        \"\"\"Change the current rotation of the car\"\"\"\n",
    "        if np.absolute(deg) > MAX_TURN:\n",
    "            assert False\n",
    "        self.alpha += deg\n",
    "        self.alpha = self.alpha % 360\n",
    "\n",
    "    def get_speed_coor(self):\n",
    "        cst: float = np.pi / 180\n",
    "        dx: float = self.speed * np.cos(self.alpha * cst)\n",
    "        dy: float = self.speed * np.sin(self.alpha * cst)\n",
    "        return Coor((dx,dy))\n",
    "\n",
    "    def move(self):\n",
    "        \"\"\"Change the coordinate of the care according to its speed and alpha\"\"\"\n",
    "        speed_increase = 0\n",
    "        if self.previous_speed < self.speed:\n",
    "            speed_increase = 1\n",
    "        elif self.previous_speed > self.speed:\n",
    "            speed_increase = -1\n",
    "        self.previous_speed = self.speed\n",
    "\n",
    "        dx,dy = self.get_speed_coor().get()\n",
    "        self.coor.x += dx\n",
    "        self.coor.y += dy\n",
    "        self.trajectory.append([Coor((self.coor.x, self.coor.y)), speed_increase])\n",
    "\n",
    "    def dic(self):\n",
    "        return {\"coor\":self.coor, \"speed\":self.speed, \"alpha\":self.alpha, \"trajectory\":self.trajectory}\n",
    "\n",
    "    def plot(self, markersize=8, vector_constant=2, show_trajectory=False, head_width=1):\n",
    "        \"\"\"Plot the car and is speed vectors\"\"\"\n",
    "        # Plot car\n",
    "        x,y = self.coor.get()\n",
    "        plt.axis(\"off\")\n",
    "\n",
    "        # Plot \n",
    "        if show_trajectory:\n",
    "            liste_x = [i[0].x for i in self.trajectory]\n",
    "            liste_y = [i[0].y for i in self.trajectory]\n",
    "\n",
    "            for i in range(1, len(self.trajectory)):\n",
    "                color = \"yellow\"\n",
    "                if self.trajectory[i][1] == 1:\n",
    "                    color = \"green\"\n",
    "                elif self.trajectory[i][1] == -1:\n",
    "                    color = \"red\"\n",
    "        \n",
    "                plt.plot([liste_x[i-1], liste_x[i]], [liste_y[i-1], liste_y[i]], \"-o\", color=color, markersize=2)\n",
    "                 \n",
    "        # Plot car's directoin\n",
    "        cst: float = np.pi / 180\n",
    "        dx: float = np.cos(self.alpha * cst)\n",
    "        dy: float = np.sin(self.alpha * cst)\n",
    "        plt.arrow(x, y, dx/10, dy/10, head_width=head_width)\n",
    "        plt.plot([x, x+ dx*self.speed*vector_constant], [y, y+ dy*self.speed*vector_constant], \"-\", color=\"red\")\n",
    "        plt.plot(x, y, \"o\", color='blue', markersize=markersize)\n"
   ]
  },
  {
   "cell_type": "markdown",
   "metadata": {},
   "source": [
    "### Gym env"
   ]
  },
  {
   "cell_type": "markdown",
   "metadata": {},
   "source": [
    "We need to transform a actual action $(a, \\alpha) \\in \\{-1,0,1\\} \\times \\{-K,...,K\\}$ where $K =$ `MAX_TURN` to a action in $\\{0,...,N-1\\}$.\n",
    "\n",
    "Then we need a bijection\n",
    "$$\\phi : \\{-1,0,1\\} \\times \\{-K,...,K\\} \\rightarrow \\mathbb{Z}_N$$\n",
    "\n",
    "We can take\n",
    "$$\\phi(a,b) = 3(b+K) + (a+1)$$\n",
    "\n",
    "Then,\n",
    "$$\\phi^{-1}(x) = ((x\\; mod\\; 3)-1, \\frac{1}{3}x -K)$$\n",
    "\n",
    "Moreover, we have $N = 3\\times 2K+1 = 6K+3$"
   ]
  },
  {
   "cell_type": "code",
   "execution_count": 100,
   "metadata": {},
   "outputs": [],
   "source": [
    "K = MAX_TURN\n",
    "N = 6*K + 3\n",
    "\n",
    "def action_to_int(act):\n",
    "    a,b = act\n",
    "    return 3*(b+K) + a+1\n",
    "\n",
    "def int_to_action(x):\n",
    "    return ((x%3)-1, int(x/3) -K, )\n",
    "\n",
    "for i in range(N):\n",
    "    action = int_to_action(i)\n",
    "    assert action != action_to_int(action)"
   ]
  },
  {
   "cell_type": "code",
   "execution_count": 103,
   "metadata": {},
   "outputs": [],
   "source": [
    "class RacingCar(Env):\n",
    "    def __init__(self, track_path):\n",
    "        super(RacingCar, self).__init__()\n",
    "        self.max_turn = 50\n",
    "        # Define an action space ranging from 0 to 3\n",
    "        self.action_space = [int_to_action(i) for i in range(N)]\n",
    "        self.int_action_space = [i for i in range(N)]\n",
    "\n",
    "        # Define the anle of which we will look the distance\n",
    "        self.liste_alpha = [0, 90, -90, 45, -45]\n",
    "        self.max_dist_wall = 60\n",
    "\n",
    "        self.track_info = create_track_info(track_path)\n",
    "        self.track: Track = Track(self.track_info)\n",
    "        self.car: Car = Car(self.track.start)\n",
    "\n",
    "        self.canvas = np.array(self.track.color_track)\n",
    "\n",
    "\n",
    "    def get_state(self):\n",
    "        \"\"\"Return actual state of the env\"\"\"\n",
    "        state = [self.car.speed]\n",
    "        for alpha in self.liste_alpha:\n",
    "            coor = self.track.next_wall(self.car.coor, self.car.alpha + alpha, dist_max=self.max_dist_wall)\n",
    "            state.append(self.car.coor.dist(coor))\n",
    "        return state\n",
    "\n",
    "    def reset(self):\n",
    "        \"\"\"Reset the environment\"\"\"\n",
    "        self.car = Car(self.track.start)\n",
    "        return self.get_state(), []\n",
    "\n",
    "    def render(self, waiting_time=0.01, show_trajectory=False, show_dist_to_wall=False):\n",
    "        \"\"\"Render the environment\"\"\"\n",
    "        self.track.plot(hide=True)\n",
    "        if show_dist_to_wall:\n",
    "            for alpha in self.liste_alpha:\n",
    "                coor = self.track.next_wall(self.car.coor, self.car.alpha + alpha, dist_max=self.max_dist_wall)\n",
    "                plt.plot([self.car.coor.x, coor.x], [self.car.coor.y, coor.y], \"-\", color=\"grey\")\n",
    "\n",
    "        self.car.plot(show_trajectory=show_trajectory)\n",
    "        display.clear_output(wait=True)\n",
    "        plt.show()\n",
    "        time.sleep(waiting_time)\n",
    "        \n",
    "    def step(self, action:int):\n",
    "        \"\"\"Do a step, we suppose that the action is a possible one\"\"\"\n",
    "        is_done = False\n",
    "        reward = 0\n",
    "\n",
    "        x,y = self.car.coor.get()\n",
    "        previous_coor = Coor((x,y))\n",
    "\n",
    "        acc, turn = int_to_action(action)\n",
    "        if acc==-1:\n",
    "            self.car.brake()\n",
    "        elif acc==1:\n",
    "            self.car.accelerate()\n",
    "        self.car.turn(turn)\n",
    "        self.car.move()\n",
    "\n",
    "        new_coor = self.car.coor\n",
    "        reward += previous_coor.dist(new_coor)\n",
    "\n",
    "        has_crashed = False\n",
    "        if not self.track.is_move_possible(previous_coor, new_coor):\n",
    "            has_crashed = True\n",
    "            reward = -100\n",
    "            is_done = True\n",
    "\n",
    "        return self.get_state(), reward, is_done, has_crashed, []\n",
    "    \n",
    "    def random_action(self, p_accel=0.25, p_brake=0.25, p_turn=0.5):\n",
    "        \"\"\"Return random possible action according to probability\"\"\"\n",
    "        action = [0,0]\n",
    "        rd_accel = rd.random()\n",
    "        if rd_accel <= p_accel:\n",
    "            action[0] = 1\n",
    "        elif rd_accel <= p_accel + p_brake:\n",
    "            action[0] = -1\n",
    "        \n",
    "        if rd.random() <= p_turn:\n",
    "            action[1] = ((-1)**(rd.randint(0,1))) * rd.randint(-self.max_turn, self.max_turn)\n",
    "        return action"
   ]
  },
  {
   "cell_type": "code",
   "execution_count": 102,
   "metadata": {},
   "outputs": [
    {
     "name": "stdout",
     "output_type": "stream",
     "text": [
      "243 243\n",
      "[(-1, -40), (0, -40), (1, -40), (-1, -39), (0, -39), (1, -39), (-1, -38), (0, -38), (1, -38), (-1, -37), (0, -37), (1, -37), (-1, -36), (0, -36), (1, -36), (-1, -35), (0, -35), (1, -35), (-1, -34), (0, -34), (1, -34), (-1, -33), (0, -33), (1, -33), (-1, -32), (0, -32), (1, -32), (-1, -31), (0, -31), (1, -31), (-1, -30), (0, -30), (1, -30), (-1, -29), (0, -29), (1, -29), (-1, -28), (0, -28), (1, -28), (-1, -27), (0, -27), (1, -27), (-1, -26), (0, -26), (1, -26), (-1, -25), (0, -25), (1, -25), (-1, -24), (0, -24), (1, -24), (-1, -23), (0, -23), (1, -23), (-1, -22), (0, -22), (1, -22), (-1, -21), (0, -21), (1, -21), (-1, -20), (0, -20), (1, -20), (-1, -19), (0, -19), (1, -19), (-1, -18), (0, -18), (1, -18), (-1, -17), (0, -17), (1, -17), (-1, -16), (0, -16), (1, -16), (-1, -15), (0, -15), (1, -15), (-1, -14), (0, -14), (1, -14), (-1, -13), (0, -13), (1, -13), (-1, -12), (0, -12), (1, -12), (-1, -11), (0, -11), (1, -11), (-1, -10), (0, -10), (1, -10), (-1, -9), (0, -9), (1, -9), (-1, -8), (0, -8), (1, -8), (-1, -7), (0, -7), (1, -7), (-1, -6), (0, -6), (1, -6), (-1, -5), (0, -5), (1, -5), (-1, -4), (0, -4), (1, -4), (-1, -3), (0, -3), (1, -3), (-1, -2), (0, -2), (1, -2), (-1, -1), (0, -1), (1, -1), (-1, 0), (0, 0), (1, 0), (-1, 1), (0, 1), (1, 1), (-1, 2), (0, 2), (1, 2), (-1, 3), (0, 3), (1, 3), (-1, 4), (0, 4), (1, 4), (-1, 5), (0, 5), (1, 5), (-1, 6), (0, 6), (1, 6), (-1, 7), (0, 7), (1, 7), (-1, 8), (0, 8), (1, 8), (-1, 9), (0, 9), (1, 9), (-1, 10), (0, 10), (1, 10), (-1, 11), (0, 11), (1, 11), (-1, 12), (0, 12), (1, 12), (-1, 13), (0, 13), (1, 13), (-1, 14), (0, 14), (1, 14), (-1, 15), (0, 15), (1, 15), (-1, 16), (0, 16), (1, 16), (-1, 17), (0, 17), (1, 17), (-1, 18), (0, 18), (1, 18), (-1, 19), (0, 19), (1, 19), (-1, 20), (0, 20), (1, 20), (-1, 21), (0, 21), (1, 21), (-1, 22), (0, 22), (1, 22), (-1, 23), (0, 23), (1, 23), (-1, 24), (0, 24), (1, 24), (-1, 25), (0, 25), (1, 25), (-1, 26), (0, 26), (1, 26), (-1, 27), (0, 27), (1, 27), (-1, 28), (0, 28), (1, 28), (-1, 29), (0, 29), (1, 29), (-1, 30), (0, 30), (1, 30), (-1, 31), (0, 31), (1, 31), (-1, 32), (0, 32), (1, 32), (-1, 33), (0, 33), (1, 33), (-1, 34), (0, 34), (1, 34), (-1, 35), (0, 35), (1, 35), (-1, 36), (0, 36), (1, 36), (-1, 37), (0, 37), (1, 37), (-1, 38), (0, 38), (1, 38), (-1, 39), (0, 39), (1, 39), (-1, 40), (0, 40), (1, 40)]\n"
     ]
    }
   ],
   "source": [
    "M = RacingCar(path)\n",
    "print(len(M.action_space), N)\n",
    "print(M.action_space)\n",
    "M.close()"
   ]
  },
  {
   "cell_type": "markdown",
   "metadata": {},
   "source": [
    "# Torch env"
   ]
  },
  {
   "cell_type": "code",
   "execution_count": 75,
   "metadata": {},
   "outputs": [],
   "source": [
    "import torch \n",
    "import torch.nn as nn \n",
    "import torch.functional as F\n",
    "import torch.optim as optim\n",
    "\n",
    "# structure to save transitions \n",
    "from collections import namedtuple , deque\n",
    "Transition = namedtuple(\"Transition\",[\"state\",\"action\",\"next_state\",\"reward\"])"
   ]
  },
  {
   "cell_type": "markdown",
   "metadata": {},
   "source": [
    "### ReplayMem"
   ]
  },
  {
   "cell_type": "code",
   "execution_count": 76,
   "metadata": {},
   "outputs": [],
   "source": [
    "class ReplayMemory():\n",
    "    def __init__(self,maxlen : int):\n",
    "        self.memory_ = deque(maxlen=maxlen)\n",
    "\n",
    "    def push(self,x : Transition):\n",
    "        self.memory_.append(x)\n",
    "\n",
    "    def sample(self,batch_size : int) -> list[Transition]:\n",
    "        return rd.sample(self.memory_,batch_size)\n",
    "    \n",
    "    def clear(self):\n",
    "        return self.memory_.clear()\n",
    "    \n",
    "    def __len__(self):\n",
    "        return len(self.memory_)"
   ]
  },
  {
   "cell_type": "markdown",
   "metadata": {},
   "source": [
    "### DQN"
   ]
  },
  {
   "cell_type": "code",
   "execution_count": 77,
   "metadata": {},
   "outputs": [],
   "source": [
    "class DQN(nn.Module):\n",
    "    def __init__(self):\n",
    "        super(DQN,self).__init__()\n",
    "        nb = 50\n",
    "        self.network = nn.Sequential(\n",
    "            nn.Linear(2,nb),\n",
    "            nn.ReLU(),\n",
    "\n",
    "            nn.Linear(nb,nb),\n",
    "            nn.ReLU(),\n",
    "\n",
    "            nn.Linear(nb,4),\n",
    "        )\n",
    "\n",
    "    def forward(self,x):\n",
    "        return self.network(x)\n",
    "    \n",
    "    def save(self,filename : str = None):\n",
    "        if (filename == None):\n",
    "            filename = datetime.now().strftime(\"%Y-%m-%d_%H:%M:%S\")\n",
    "        torch.save(self.state_dict(),filename)\n",
    "\n",
    "    def load(self,filename : str):\n",
    "        self.load_state_dict(torch.load(filename, weights_only=True))"
   ]
  },
  {
   "cell_type": "markdown",
   "metadata": {},
   "source": [
    "### Env"
   ]
  },
  {
   "cell_type": "code",
   "execution_count": null,
   "metadata": {},
   "outputs": [],
   "source": [
    "class Env():\n",
    "    def __init__(self, track_name):\n",
    "        \"\"\" track_name is the name of the track file\"\"\"\n",
    "        # Toujours là\n",
    "        self.done = False\n",
    "\n",
    "        # Pour faire step, reset, state pour cette implementation\n",
    "        self.env = RacingCar(track_name)\n",
    "        self.state_gym,_ = self.env.reset()\n",
    "        self.n_action = len(self.env.action_space)\n",
    "\n",
    "        # Décrit le model actuel\n",
    "        self.model = DQN()\n",
    "\n",
    "        # Décrit les transitions observées jusqu'à présent\n",
    "        self.memory = ReplayMemory(10000)\n",
    "\n",
    "    def state(self):\n",
    "        \"\"\" On définit un état comme étant un batch de taille 1 ou None\"\"\"\n",
    "        if (self.state_gym == None or self.done) :\n",
    "            return None\n",
    "        else :\n",
    "            arr = np.array(self.env.get_state())\n",
    "            arr = arr / max(arr) #To normalize the array\n",
    "            return torch.tensor([arr],dtype=torch.float)\n",
    "\n",
    "    def show_state(self):\n",
    "        self.env.render()\n",
    "\n",
    "    def reset(self):\n",
    "        \"\"\"Reset the environment\"\"\"\n",
    "        self.state_gym , _ = self.env.reset()\n",
    "        self.done = False\n",
    "    \n",
    "    def dist(state):\n",
    "        \"\"\"Calcule la longueur d'un plus court chemin entre state et goal (sous forme d'un flotant)\"\"\"\n",
    "        goal = torch.tensor([[11,3]],dtype=torch.float)\n",
    "        start = torch.tensor([[0,3]],dtype=torch.float)\n",
    "        if (torch.equal(state,start)):\n",
    "           return torch.tensor(13,dtype=torch.float)\n",
    "        else :\n",
    "           return torch.sum(torch.abs(state-goal))\n",
    "       \n",
    "    def step(self,action : torch.tensor) :\n",
    "        \"\"\" Fais un pas depuis l'état actuel via l'action donnée et renvoit la transition observéex\n",
    "            Une action est un tenseur contenant un seul scalaire \"\"\"\n",
    "        if (self.done):\n",
    "            raise(ValueError(\"Trying to move from a final state\"))\n",
    "\n",
    "        prev_state = self.state()\n",
    "\n",
    "        # do the step and update the new gym state\n",
    "        self.state_gym,reward,terminated,truncated,_ = self.env.step(action.item())\n",
    "        self.done = terminated or truncated\n",
    "\n",
    "        next_state = self.state()\n",
    "\n",
    "        normalizer = MAX_SPEED\n",
    "        reward = torch.tensor(reward/normalizer, dtype=torch.float).reshape((1,1))\n",
    "        action = torch.tensor(action.item()).reshape((1,1))\n",
    "\n",
    "        transition = Transition(prev_state, action, next_state , reward)\n",
    "        return transition\n",
    "    \n",
    "    def policy(self):\n",
    "        if (self.done):\n",
    "            raise(ValueError(\"Trying to predict a move from a final state\"))\n",
    "        return self.model(self.state()).max(1).indices.reshape((1,1))\n",
    "    \n",
    "    def random_action(self) -> torch.tensor :\n",
    "        if (self.done):\n",
    "            raise(ValueError(\"Trying to sample a move from a final state\"))\n",
    "        action = rd.randint(0,self.n_action-1)\n",
    "        return torch.tensor(action).reshape((1,1))\n",
    "    "
   ]
  },
  {
   "cell_type": "code",
   "execution_count": null,
   "metadata": {},
   "outputs": [],
   "source": [
    "myenv = Env(\"../tracks/02.png\")"
   ]
  }
 ],
 "metadata": {
  "kernelspec": {
   "display_name": "Python 3",
   "language": "python",
   "name": "python3"
  },
  "language_info": {
   "codemirror_mode": {
    "name": "ipython",
    "version": 3
   },
   "file_extension": ".py",
   "mimetype": "text/x-python",
   "name": "python",
   "nbconvert_exporter": "python",
   "pygments_lexer": "ipython3",
   "version": "3.10.12"
  }
 },
 "nbformat": 4,
 "nbformat_minor": 2
}
