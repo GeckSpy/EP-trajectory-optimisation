{
 "cells": [
  {
   "cell_type": "markdown",
   "metadata": {},
   "source": [
    "# Creating gymnasium environment"
   ]
  },
  {
   "cell_type": "markdown",
   "metadata": {},
   "source": [
    "This environment goal: a simple $N \\times N$ grid with black(wall) and white(track)\n",
    "\n",
    "Car (Blue car) moving : Up, Down, Right, Left\n",
    "\n",
    "End: Red\n",
    "\n",
    "Start: Start\n",
    "\n",
    "Observation grid: $n \\times n$ with $n \\leq N$"
   ]
  },
  {
   "cell_type": "markdown",
   "metadata": {},
   "source": [
    "### Packages"
   ]
  },
  {
   "cell_type": "code",
   "execution_count": 7,
   "metadata": {},
   "outputs": [],
   "source": [
    "import numpy as np\n",
    "import matplotlib.pyplot as plt\n",
    "from IPython import display\n",
    "import random as rd\n",
    "import time\n",
    "\n",
    "from gym import Env, spaces"
   ]
  },
  {
   "cell_type": "code",
   "execution_count": 24,
   "metadata": {},
   "outputs": [],
   "source": [
    "class Coor():\n",
    "    def __init__(self, coor):\n",
    "        self.x = coor[0]\n",
    "        self.y = coor[1]\n",
    "\n",
    "    def get(self):\n",
    "        return self.x, self.y\n",
    "    \n",
    "    def __str__(self):\n",
    "        return \"(\" + str(self.x) + \", \" + str(self.y) + \")\"\n",
    "    \n",
    "    def __add__(self, coor2):\n",
    "        return Coor((self.x + coor2.x, self.y + coor2.y))\n",
    "    \n",
    "    def __eq__(self, coor2):\n",
    "        return (self.x==coor2.x) and (self.y==coor2.y)\n",
    "    \n",
    "    def __mul__(self, other):\n",
    "        if type(other) == int or type(other)==float:\n",
    "            x,y = self.get()\n",
    "            return Coor((x*other, y*other))\n",
    "        else:\n",
    "            raise NotImplementedError\n",
    "    \n",
    "    def dist(self, coor2):\n",
    "        a,b = self.get()\n",
    "        c,d = self.get()\n",
    "        return np.sqrt(a*c + b*d)\n",
    "\n",
    "\n",
    "N = 5\n",
    "n = 5\n",
    "\n",
    "RED = [255, 0, 0]\n",
    "GREEN = [0, 255, 0]\n",
    "BLUE = [0, 0, 255]\n",
    "GREY = [70 for _ in range(3)]\n",
    "WHITE = [255 for _ in range(3)]\n",
    "\n",
    "START_CHAR = \"s\"\n",
    "END_CHAR = \"e\"\n",
    "\n",
    "def color(b):\n",
    "    if b == START_CHAR:\n",
    "        return GREEN\n",
    "    elif b == END_CHAR:\n",
    "        return RED\n",
    "    elif b == 1:\n",
    "        return GREY\n",
    "    else:\n",
    "        return WHITE\n",
    "\n",
    "\n",
    "class Track():\n",
    "    def __init__(self, tab):\n",
    "        self.height = len(tab)\n",
    "        self.width = len((tab[0]))\n",
    "        self.info_track = tab\n",
    "        self.color_track = [[color(x) for x in y] for y in tab]\n",
    "\n",
    "        self.end = None\n",
    "        self.start = None\n",
    "        for i in range(self.height):\n",
    "            for j in range(self.width):\n",
    "                if tab[i][j] == START_CHAR:\n",
    "                    self.start = Coor((i,j))\n",
    "                if tab[i][j] == END_CHAR:\n",
    "                    self.end = Coor((i,j))\n",
    "\n",
    "    def get_color(self, coor:Coor):\n",
    "        \"\"\"return the color of the case x,y\"\"\"\n",
    "        x,y = coor.get()\n",
    "        return color(self.info_track[x][y])\n",
    "    \n",
    "    def is_wall(self, coor:Coor):\n",
    "        \"\"\"Return True if case (x,y) is a wall\"\"\"\n",
    "        x,y = coor.get()\n",
    "        x,y = int(x), int(y)\n",
    "        return (self.info_track[x][y] == 1)\n",
    "\n",
    "    def get_start(self):\n",
    "        \"\"\"Return coordinate of start\"\"\"\n",
    "        return self.start.get()\n",
    "    \n",
    "    def get_end(self):\n",
    "        \"\"\"Return coordinate of end\"\"\"\n",
    "        return self.end.get()\n",
    "\n",
    "    def plot(self):\n",
    "        \"\"\"Plot the track using matplotlib\"\"\"\n",
    "        plt.imshow(self.color_track)\n",
    "        plt.axis(\"off\")\n",
    "        plt.show()"
   ]
  },
  {
   "cell_type": "markdown",
   "metadata": {},
   "source": [
    "### Track"
   ]
  },
  {
   "cell_type": "code",
   "execution_count": 25,
   "metadata": {},
   "outputs": [
    {
     "data": {
      "image/png": "[encoded data removed]",
      "text/plain": [
       "<Figure size 640x480 with 1 Axes>"
      ]
     },
     "metadata": {},
     "output_type": "display_data"
    },
    {
     "name": "stdout",
     "output_type": "stream",
     "text": [
      "start at coordinates: (4, 0)\n"
     ]
    }
   ],
   "source": [
    "track_1_bool = [[1, 1, 1, 1, \"e\"],\n",
    "                [1, 1, 1, 0, 0],\n",
    "                [1, 1, 0, 0, 0],\n",
    "                [1, 0, 0, 0, 0],\n",
    "                [\"s\", 0, 0, 0, 1]]\n",
    "\n",
    "track_1 = Track(track_1_bool)\n",
    "track_1.plot()\n",
    "print(\"start at coordinates:\", track_1.get_start())"
   ]
  },
  {
   "cell_type": "markdown",
   "metadata": {},
   "source": [
    "### Car Icon"
   ]
  },
  {
   "cell_type": "code",
   "execution_count": 26,
   "metadata": {},
   "outputs": [],
   "source": [
    "CAR_ICON = [[BLUE]]"
   ]
  },
  {
   "cell_type": "markdown",
   "metadata": {},
   "source": [
    "### Creating env"
   ]
  },
  {
   "cell_type": "code",
   "execution_count": 31,
   "metadata": {},
   "outputs": [],
   "source": [
    "class MyEnv(Env):\n",
    "    def __init__(self, track: Track, K=1):\n",
    "        super(MyEnv, self).__init__()\n",
    "\n",
    "        # Define a 2-D observation space\n",
    "        self.observation_shape = (N, N, 3)\n",
    "        self.observation_space = spaces.Box(low = np.zeros(self.observation_shape), \n",
    "                                            high = np.ones(self.observation_shape),\n",
    "                                            dtype = np.int64)\n",
    "\n",
    "        # Define an action space ranging from 0 to 3\n",
    "        self.action_space = [i for i in range(4)]\n",
    "\n",
    "        self.track = track\n",
    "        self.car = Coor(self.track.get_start())\n",
    "        # self.car_icon = cv2.imread(\"blue_dot.png\") /255\n",
    "        self.car_icon = np.array(CAR_ICON)\n",
    "\n",
    "        self.canvas = np.array(self.track.color_track)\n",
    "\n",
    "        self.action_meanings = {0: \"Right\", 1: \"Left\", 2: \"Down\", 3: \"Up\"}\n",
    "        self.meanings_action = {\"R\":0, \"L\":1, \"D\":2, \"U\":3}\n",
    "        self.moves = {0:Coor((0,1)), 1:Coor((0,-1)), 2:Coor((1,0)), 3:Coor((-1,0))}\n",
    "        for k in self.moves.keys():\n",
    "            self.moves[k]*= K\n",
    "\n",
    "\n",
    "    def reset(self):\n",
    "        \"\"\"Reset the environment\"\"\"\n",
    "        self.car = Coor(self.track.get_start())\n",
    "        return self.canvas\n",
    "\n",
    "    def render(self, mode = \"human\", waiting_time=0.1):\n",
    "        \"\"\"Render the environment\"\"\"\n",
    "        assert mode in [\"human\", \"rgb_array\"], \"Invalid mode, must be either \\\"human\\\" or \\\"rgb_array\\\"\"\n",
    "        self.canvas = np.array(self.track.color_track)\n",
    "        if mode == \"human\":\n",
    "            plt.imshow(self.canvas)\n",
    "            plt.axis(\"off\")\n",
    "            plt.plot(self.car.x, self.car.y, 'o', color=\"blue\")\n",
    "            display.clear_output(wait=True)\n",
    "            plt.show()\n",
    "            time.sleep(waiting_time)\n",
    "\n",
    "        \n",
    "\n",
    "    def move(self, action):\n",
    "        \"\"\"Return the move cooresponding to action\"\"\"\n",
    "        return self.moves[action]\n",
    "\n",
    "    def is_case_ridable(self, coor: Coor):\n",
    "        \"\"\"Return if the car can go on the case or not\"\"\"\n",
    "        x,y = coor.get()\n",
    "        if not (x>=0 and x<self.track.height and y>=0 and y<self.track.width):\n",
    "            return False\n",
    "        return not self.track.is_wall(coor)\n",
    "    \n",
    "    def possible_action(self):\n",
    "        \"\"\"Return a list of possible action according to the coordinates of the car\"\"\"\n",
    "        actions = []\n",
    "        for k in self.moves.keys():\n",
    "            if self.is_case_ridable(self.car + self.moves[k]):\n",
    "                actions.append(k)\n",
    "        return actions\n",
    "        \n",
    "    def step(self, action):\n",
    "        \"\"\"Do a step, we suppose that the action is a possible one\"\"\"\n",
    "        is_done = False\n",
    "        reward = -1\n",
    "\n",
    "        mv = self.move(action)\n",
    "        next_move = self.car + mv\n",
    "        reward += next_move.dist(self.track.end) - self.car.dist(self.track.end)\n",
    "        self.car = next_move\n",
    "\n",
    "        x,y = self.car.get()\n",
    "        x,y = int(x),int(y)\n",
    "        if Coor((x,y)) == self.track.end:\n",
    "            reward = 200\n",
    "            is_done = True\n",
    "\n",
    "        return self.canvas, reward, is_done, []\n",
    "    \n",
    "    def random_action(self):\n",
    "        \"\"\"Return random possible action\"\"\"\n",
    "        return rd.choice(self.possible_action())\n",
    "        \n",
    "        \n",
    "\n",
    "env = MyEnv(track_1, K=1/2)\n",
    "obs = env.reset()"
   ]
  },
  {
   "cell_type": "markdown",
   "metadata": {},
   "source": [
    "### Running"
   ]
  },
  {
   "cell_type": "code",
   "execution_count": 38,
   "metadata": {},
   "outputs": [
    {
     "data": {
      "image/png": "[encoded data removed]",
      "text/plain": [
       "<Figure size 640x480 with 1 Axes>"
      ]
     },
     "metadata": {},
     "output_type": "display_data"
    },
    {
     "name": "stdout",
     "output_type": "stream",
     "text": [
      "number of steps: 297\n"
     ]
    }
   ],
   "source": [
    "running = True\n",
    "step = 0\n",
    "env.reset()\n",
    "while running:\n",
    "    step += 1\n",
    "    # Take a random action\n",
    "    action = env.random_action()\n",
    "    obs, reward, done, info = env.step(action)\n",
    "\n",
    "    # Render the game\n",
    "    env.render(waiting_time=0.01)\n",
    "\n",
    "    if done == True or step > 1000:\n",
    "        running = False\n",
    "\n",
    "print(\"number of steps:\", step)\n",
    "\n",
    "env.close()"
   ]
  }
 ],
 "metadata": {
  "kernelspec": {
   "display_name": "Python 3",
   "language": "python",
   "name": "python3"
  },
  "language_info": {
   "codemirror_mode": {
    "name": "ipython",
    "version": 3
   },
   "file_extension": ".py",
   "mimetype": "text/x-python",
   "name": "python",
   "nbconvert_exporter": "python",
   "pygments_lexer": "ipython3",
   "version": "3.10.12"
  }
 },
 "nbformat": 4,
 "nbformat_minor": 2
}
