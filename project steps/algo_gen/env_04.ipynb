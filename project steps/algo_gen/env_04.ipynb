{
 "cells": [
  {
   "cell_type": "markdown",
   "metadata": {},
   "source": [
    "# Creating gymnasium environment"
   ]
  },
  {
   "cell_type": "markdown",
   "metadata": {},
   "source": [
    "### Explanations"
   ]
  },
  {
   "cell_type": "markdown",
   "metadata": {},
   "source": [
    "The environment is:\n",
    " - A $N \\times M$ grid of cases with $N,M \\in \\mathbb{N}$ supposed to be a loop track.\n",
    " - Each case is in $\\{0,1,3,4\\}$ such that:\n",
    "   - $0 \\rightarrow$ road (white)\n",
    "   - $1 \\rightarrow$ wall (black)\n",
    "   - $STAR\\_ CHAR$ (3) $\\rightarrow$ starting point\n",
    "\n",
    " - A Car that follow some model for trajectory. The car can do the next action:\n",
    "   - accelerate (add $1$ to car speed)\n",
    "   - brake (divide the car speed by $1.5$)\n",
    "   - turn (need to specify the angle)\n",
    "   - do nothing\n",
    "  \n",
    " - Possible Actions $(a,b) \\in \\{-1,0,1\\} \\times [-K,K]$ where:\n",
    "   - $a=1$ for acceleration, $-1$ for brake and $0$ for nothing\n",
    "   - $b>0$ for turning left with angle, $b<0$ to turn right and 0 for nothing. Note that a turn, in this environment is always in $[-K,K]$ where $K$ is the value of `env.max_turn` variable.\n",
    "\n",
    " - The state is a $6$ vector $V$. $\\forall i\\in \\{1,2,3,4,5\\}$, $V[i]\\leq$ `env.DMO`\n",
    "   - $V[0]$ is the speed of the car $\\geq 0$\n",
    "   - $V[1]$ is the distance between car and wall in front of it.\n",
    "   - $V[2]$ is the distance between car and wall in its left (90°).\n",
    "   - $V[3]$ is the distance between car and wall in its right (90°).\n",
    "   - $V[4]$ is the distance between car and wall in its left (45°).\n",
    "   - $V[5]$ is the distance between car and wall in its right (45°).\n"
   ]
  },
  {
   "cell_type": "markdown",
   "metadata": {
    "notebookRunGroups": {
     "groupValue": "1"
    }
   },
   "source": [
    "To create your turn/your track, use the grid notation (for better visualisation) like env_01 and env_02. The grid is used with the matrix notation. If we denote the grid by $G$, then $G[0][0]$ is the top left case, $G[x][y]$ is the case on the $x$-th row (from top to bottom) and on the $y$-th column (from left to right).\n",
    "\n",
    "You can also use image for that with balck pixel for wall, white for starting point, any other color will be interpreted as road.\n",
    "\n",
    "Nevertheless, for all the other things, we use axis coordinates, i.e., $G[x][y]$ refer to the case situate at coordinate $(x,y)$. More preciselly, it is the case on the $x$-th column (from left to right) and on the $y$-th row (from bottom to top). Therefore you can simply use `plt.plot(x,y, args**)` for ploting something at coordinate $(x,y)$ (see code for more example)."
   ]
  },
  {
   "cell_type": "markdown",
   "metadata": {
    "notebookRunGroups": {
     "groupValue": "1"
    }
   },
   "source": [
    "### Importing Packages"
   ]
  },
  {
   "cell_type": "code",
   "execution_count": 30,
   "metadata": {},
   "outputs": [],
   "source": [
    "import numpy as np\n",
    "import matplotlib.pyplot as plt\n",
    "from IPython import display\n",
    "import random as rd\n",
    "import time\n",
    "\n",
    "from gym import Env, spaces"
   ]
  },
  {
   "cell_type": "markdown",
   "metadata": {
    "notebookRunGroups": {
     "groupValue": "1"
    }
   },
   "source": [
    "### Coor class"
   ]
  },
  {
   "cell_type": "code",
   "execution_count": 31,
   "metadata": {},
   "outputs": [],
   "source": [
    "class Coor():\n",
    "    def __init__(self, coor):\n",
    "        self.x = coor[0]\n",
    "        self.y = coor[1]\n",
    "\n",
    "    def get(self):\n",
    "        return self.x, self.y\n",
    "    \n",
    "    def __str__(self):\n",
    "        return \"(\" + str(self.x) + \", \" + str(self.y) + \")\"\n",
    "    \n",
    "    def __add__(self, coor2):\n",
    "        return Coor((self.x + coor2.x, self.y + coor2.y))\n",
    "    \n",
    "    def __eq__(self, coor2):\n",
    "        if coor2 == None:\n",
    "            return False\n",
    "        return (self.x==coor2.x) and (self.y==coor2.y)\n",
    "    \n",
    "    def __neg__(self):\n",
    "        x,y = self.get()\n",
    "        return Coor((-x,-y))\n",
    "    \n",
    "    def __sub__(self, coor2):\n",
    "        coor = - coor2\n",
    "        return self + coor\n",
    "    \n",
    "    def norm(self):\n",
    "        x,y = self.get()\n",
    "        return np.sqrt(x*x + y*y)\n",
    "    \n",
    "    def dist(self, coor2):\n",
    "        return (self -coor2).norm()\n"
   ]
  },
  {
   "cell_type": "markdown",
   "metadata": {},
   "source": [
    "### Track class"
   ]
  },
  {
   "cell_type": "markdown",
   "metadata": {},
   "source": [
    "Contrary to previous environment, track are not matrix anymore."
   ]
  },
  {
   "cell_type": "code",
   "execution_count": 32,
   "metadata": {},
   "outputs": [],
   "source": [
    "RED = [255, 0, 0]\n",
    "GREEN = [0, 255, 0]\n",
    "BLUE = [0, 0, 255]\n",
    "GREY = [70 for _ in range(3)]\n",
    "WHITE = [240 for _ in range(3)]\n",
    "\n",
    "START_CHAR = 2\n",
    "CAR_CHAR = 4\n",
    "\n",
    "def color(b):\n",
    "    if b == START_CHAR:\n",
    "        return GREEN\n",
    "    elif b == 1:\n",
    "        return GREY\n",
    "    else:\n",
    "        return WHITE\n",
    "    \n",
    "\n",
    "class Track():\n",
    "    def __init__(self, tab):\n",
    "        #switching height and width for plan approach\n",
    "        self.height, self.width = np.array(tab).shape\n",
    "        self.basic_info_track:list = np.array(tab)\n",
    "        \n",
    "        self.info_track:list = [[0 for _ in range(self.height)] for _ in range(self.width)]\n",
    "        for x in range(self.width):\n",
    "            for y in range(self.height):\n",
    "                self.info_track[x][y] = self.basic_info_track[self.height-1-y][x]\n",
    "\n",
    "        self.color_track = [[color(self.info_track[x][y]) for x in range(self.width)] for y in range(self.height)]\n",
    "\n",
    "        self.start = None\n",
    "        for y in range(self.height):\n",
    "            for x in range(self.width):\n",
    "                if self.info_track[x][y] == START_CHAR:\n",
    "                    self.start = Coor((x,y))\n",
    "\n",
    "    def get_color(self, coor:Coor):\n",
    "        \"\"\"return the color of the case x,y\"\"\"\n",
    "        x,y = coor.get()\n",
    "        return color(self.info_track[x][y])\n",
    "    \n",
    "    def is_wall(self, coor:Coor):\n",
    "        \"\"\"Return True if case (x,y) is a wall\"\"\"\n",
    "        x,y = coor.get()\n",
    "        nx,ny = int(round(x)), int(round(y))\n",
    "        return (self.info_track[nx][ny] == 1)\n",
    "\n",
    "    def get_start(self):\n",
    "        \"\"\"Return coordinate of start\"\"\"\n",
    "        if self.start == None:\n",
    "            return None\n",
    "        return self.start.get()\n",
    "    \n",
    "    def get_end(self):\n",
    "        \"\"\"Return coordinate of end\"\"\"\n",
    "        return self.end.get()\n",
    "    \n",
    "    def is_case_ridable(self, coor: Coor):\n",
    "        \"\"\"Return if the car can go on the coordinate or not\"\"\"\n",
    "        x,y = coor.get()\n",
    "        x,y = int(round(x)), int(round(y))\n",
    "        if not (x>=0 and x<self.width and y>=0 and y<self.height):\n",
    "            return False\n",
    "        return not self.is_wall(coor)\n",
    "    \n",
    "    def is_move_possible(self, a:Coor, b:Coor) -> bool:\n",
    "        \"\"\"Return if the car can go from point a to b in straight line\"\"\"\n",
    "        diff_x = b.x-a.x\n",
    "        diff_y = b.y-a.y\n",
    "\n",
    "        d = a.dist(b)\n",
    "        if d<1:\n",
    "            d = 1\n",
    "        \n",
    "        space = np.arange(0, 1, 1/d)\n",
    "        for t in space:\n",
    "            case = Coor((a.x+t*diff_x, a.y+t*diff_y))\n",
    "            if not self.is_case_ridable(case):\n",
    "                return False\n",
    "        return True\n",
    "    \n",
    "    def next_wall(self, coor:Coor, alpha:float, dist_max=None):\n",
    "        \"\"\"Return the next in the line from coor to the first wall\"\"\"\n",
    "        alpha = alpha % 360\n",
    "        dx = np.cos(alpha * np.pi/180)\n",
    "        dy = np.sin(alpha * np.pi/180)\n",
    "\n",
    "        i = 0\n",
    "        next_coor = Coor( (int(round(coor.x + i*dx)), int(round(coor.y + i*dy))) )\n",
    "        while self.is_case_ridable(next_coor):\n",
    "            if (dist_max!=None) and (coor.dist(next_coor) > dist_max):\n",
    "                break\n",
    "            i += 1\n",
    "            next_coor  = Coor( (int(round(coor.x + i*dx)), int(round(coor.y + i*dy))) )\n",
    "        return next_coor\n",
    "\n",
    "    def plot(self, hide=False):\n",
    "        \"\"\"Plot the track using matplotlib\"\"\"\n",
    "        plt.imshow(self.color_track, origin='lower')\n",
    "        plt.axis(\"off\")\n",
    "        if not hide:\n",
    "            plt.show()\n"
   ]
  },
  {
   "cell_type": "markdown",
   "metadata": {},
   "source": [
    "### Creating the track"
   ]
  },
  {
   "cell_type": "code",
   "execution_count": 33,
   "metadata": {},
   "outputs": [
    {
     "data": {
      "image/png": "[encoded data removed]",
      "text/plain": [
       "<Figure size 640x480 with 1 Axes>"
      ]
     },
     "metadata": {},
     "output_type": "display_data"
    },
    {
     "name": "stdout",
     "output_type": "stream",
     "text": [
      "track shape: 300 400\n",
      "start at coordinates: (204, 39)\n"
     ]
    }
   ],
   "source": [
    "path = \"../tracks/02.png\"\n",
    "\n",
    "from matplotlib.image import imread\n",
    "from PIL import Image\n",
    "\n",
    "def info_from_real_color(tab):\n",
    "    x,y,z = tab[0], tab[1], tab[2]\n",
    "    if x==0 and y==0 and z==0:\n",
    "        return 1\n",
    "    elif x==255 and y==255 and z==255:\n",
    "        return START_CHAR\n",
    "    else:\n",
    "        return 0\n",
    "\n",
    "def create_track_info(path):\n",
    "    img = Image.open(path)\n",
    "    arr = np.array(img)\n",
    "    return [[info_from_real_color(y) for y in x] for x in arr]\n",
    "\n",
    "track_info = create_track_info(path)\n",
    "track_1 = Track(track_info)\n",
    "track_1.plot()\n",
    "print(\"track shape:\", track_1.height, track_1.width)\n",
    "print(\"start at coordinates:\", track_1.start)"
   ]
  },
  {
   "cell_type": "markdown",
   "metadata": {},
   "source": [
    "### Possible moves"
   ]
  },
  {
   "cell_type": "markdown",
   "metadata": {},
   "source": [
    "### Car class"
   ]
  },
  {
   "cell_type": "markdown",
   "metadata": {},
   "source": [
    "Car has $2$ main variable:\n",
    " - speed: $v$\n",
    " - alpha: $\\alpha$ suppose to be between $0$ and $360$\n",
    "\n",
    "To calculate the $x$-speed and $y$-speed we use the next formulas:\n",
    " - $v_x = v.cos(\\alpha . \\frac{\\pi}{180})$\n",
    " - $v_y = v.sin(\\alpha . \\frac{\\pi}{180})$"
   ]
  },
  {
   "cell_type": "code",
   "execution_count": 34,
   "metadata": {
    "notebookRunGroups": {
     "groupValue": "1"
    }
   },
   "outputs": [],
   "source": [
    "\"\"\"Constant\"\"\"\n",
    "MAX_SPEED = 100\n",
    "\n",
    "\"\"\"Class\"\"\"\n",
    "class Car():\n",
    "    def __init__(self, coor:Coor):\n",
    "        self.coor: Coor = Coor((coor.x, coor.y))\n",
    "        self.speed: float = 0\n",
    "        self.alpha: float = 0 # The angle of the car according to unitary cicrle\n",
    "        self.trajectory = [[Coor((coor.x, coor.y)), 0]]\n",
    "        self.previous_speed: float = 0\n",
    "\n",
    "    def __str__(self):\n",
    "        return \"C[\" + str(self.coor) + \" \" + str(self.speed) + \" \" + str(self.alpha) + \"]\"\n",
    "    \n",
    "\n",
    "    def accelerate(self, amont=1):\n",
    "        \"\"\"Increase speed of the car\"\"\"\n",
    "        acceleration_constant = 6\n",
    "        self.speed += acceleration_constant*amont\n",
    "        self.speed = min(self.speed, MAX_SPEED)\n",
    "\n",
    "    def brake(self, amont=1):\n",
    "        \"\"\"Decrease speed of the car (can't drive backward)\"\"\"\n",
    "        brake_constant = 1.8\n",
    "        self.speed /= (brake_constant*amont)\n",
    "        if self.speed < 0.01:\n",
    "            self.speed = 0\n",
    "\n",
    "    def turn(self, deg):\n",
    "        \"\"\"Change the current rotation of the car\"\"\"\n",
    "        self.alpha += deg\n",
    "        self.alpha = self.alpha % 360\n",
    "\n",
    "    def get_speed_coor(self):\n",
    "        cst: float = np.pi / 180\n",
    "        dx: float = self.speed * np.cos(self.alpha * cst)\n",
    "        dy: float = self.speed * np.sin(self.alpha * cst)\n",
    "        return Coor((dx,dy))\n",
    "\n",
    "    def move(self):\n",
    "        \"\"\"Change the coordinate of the care according to its speed and alpha\"\"\"\n",
    "        speed_increase = 0\n",
    "        if self.previous_speed < self.speed:\n",
    "            speed_increase = 1\n",
    "        elif self.previous_speed > self.speed:\n",
    "            speed_increase = -1\n",
    "        self.previous_speed = self.speed\n",
    "\n",
    "        dx,dy = self.get_speed_coor().get()\n",
    "        self.coor.x += dx\n",
    "        self.coor.y += dy\n",
    "        self.trajectory.append([Coor((self.coor.x, self.coor.y)), speed_increase])\n",
    "\n",
    "    def dic(self):\n",
    "        return {\"coor\":self.coor, \"speed\":self.speed, \"alpha\":self.alpha, \"trajectory\":self.trajectory}\n",
    "\n",
    "    def plot(self, markersize=8, vector_constant=2, show_trajectory=False, head_width=1):\n",
    "        \"\"\"Plot the car and is speed vectors\"\"\"\n",
    "        # Plot car\n",
    "        x,y = self.coor.get()\n",
    "        plt.axis(\"off\")\n",
    "\n",
    "        # Plot \n",
    "        if show_trajectory:\n",
    "            liste_x = [i[0].x for i in self.trajectory]\n",
    "            liste_y = [i[0].y for i in self.trajectory]\n",
    "\n",
    "            for i in range(1, len(self.trajectory)):\n",
    "                color = \"yellow\"\n",
    "                if self.trajectory[i][1] == 1:\n",
    "                    color = \"green\"\n",
    "                elif self.trajectory[i][1] == -1:\n",
    "                    color = \"red\"\n",
    "        \n",
    "                plt.plot([liste_x[i-1], liste_x[i]], [liste_y[i-1], liste_y[i]], \"-o\", color=color, markersize=2)\n",
    "                 \n",
    "        # Plot car's directoin\n",
    "        cst: float = np.pi / 180\n",
    "        dx: float = np.cos(self.alpha * cst)\n",
    "        dy: float = np.sin(self.alpha * cst)\n",
    "        plt.arrow(x, y, dx/10, dy/10, head_width=head_width)\n",
    "        plt.plot([x, x+ dx*self.speed*vector_constant], [y, y+ dy*self.speed*vector_constant], \"-\", color=\"red\")\n",
    "        plt.plot(x, y, \"o\", color='blue', markersize=markersize)\n"
   ]
  },
  {
   "cell_type": "markdown",
   "metadata": {},
   "source": [
    "### Gym env"
   ]
  },
  {
   "cell_type": "code",
   "execution_count": 35,
   "metadata": {},
   "outputs": [],
   "source": [
    "class MyEnv(Env):\n",
    "    def __init__(self, track: Track):\n",
    "        super(MyEnv, self).__init__()\n",
    "        self.max_turn = 50\n",
    "        # Define an action space ranging from 0 to 3\n",
    "        self.action_space = [i for i in range(4)]\n",
    "\n",
    "        # Define the anle of which we will look the distance\n",
    "        self.liste_alpha = [0, 90, -90, 45, -45]\n",
    "        self.max_dist_wall = 80\n",
    "\n",
    "        self.track: Track = track\n",
    "        self.car: Car = Car(track.start)\n",
    "\n",
    "        self.canvas = np.array(self.track.color_track)\n",
    "\n",
    "\n",
    "    def get_state(self):\n",
    "        \"\"\"Return actual state of the env\"\"\"\n",
    "        state = [self.car.speed]\n",
    "        for alpha in self.liste_alpha:\n",
    "            coor = self.track.next_wall(self.car.coor, self.car.alpha + alpha, dist_max=self.max_dist_wall)\n",
    "            state.append(self.car.coor.dist(coor))\n",
    "        return state\n",
    "\n",
    "    def reset(self):\n",
    "        \"\"\"Reset the environment\"\"\"\n",
    "        self.car = Car(self.track.start)\n",
    "        return self.canvas\n",
    "\n",
    "    def render(self, waiting_time=0.01, show_trajectory=False, show_dist_to_wall=False):\n",
    "        \"\"\"Render the environment\"\"\"\n",
    "        self.track.plot(hide=True)\n",
    "        if show_dist_to_wall:\n",
    "            for alpha in self.liste_alpha:\n",
    "                coor = self.track.next_wall(self.car.coor, self.car.alpha + alpha, dist_max=self.max_dist_wall)\n",
    "                plt.plot([self.car.coor.x, coor.x], [self.car.coor.y, coor.y], \"-\", color=\"grey\")\n",
    "\n",
    "        self.car.plot(show_trajectory=show_trajectory)\n",
    "        display.clear_output(wait=True)\n",
    "        plt.show()\n",
    "        time.sleep(waiting_time)\n",
    "        \n",
    "        \n",
    "    def step(self, action):\n",
    "        \"\"\"Do a step, we suppose that the action is a possible one\"\"\"\n",
    "        is_done = False\n",
    "        reward = 0\n",
    "\n",
    "        x,y = self.car.coor.get()\n",
    "        previous_coor = Coor((x,y))\n",
    "        if action[0]==-1:\n",
    "            self.car.brake()\n",
    "        elif action[0]==1:\n",
    "            self.car.accelerate()\n",
    "        self.car.turn(action[1])\n",
    "        self.car.move()\n",
    "\n",
    "        new_coor = self.car.coor\n",
    "        reward += previous_coor.dist(new_coor)\n",
    "\n",
    "        if not self.track.is_move_possible(previous_coor, new_coor):\n",
    "            reward = -100\n",
    "            is_done = True\n",
    "\n",
    "        return self.canvas, reward, is_done, []\n",
    "    \n",
    "    def random_action(self, p_accel=0.25, p_brake=0.25, p_turn=0.5):\n",
    "        \"\"\"Return random possible action according to probability\"\"\"\n",
    "        action = [0,0]\n",
    "        rd_accel = rd.random()\n",
    "        if rd_accel <= p_accel:\n",
    "            action[0] = 1\n",
    "        elif rd_accel <= p_accel + p_brake:\n",
    "            action[0] = -1\n",
    "        \n",
    "        if rd.random() <= p_turn:\n",
    "            action[1] = ((-1)**(rd.randint(0,1))) * rd.randint(-self.max_turn, self.max_turn)\n",
    "        return action\n",
    "    \n",
    "env = MyEnv(track_1)"
   ]
  },
  {
   "cell_type": "markdown",
   "metadata": {},
   "source": [
    "# Genetic Algorithm"
   ]
  },
  {
   "cell_type": "code",
   "execution_count": 36,
   "metadata": {
    "notebookRunGroups": {
     "groupValue": "1"
    }
   },
   "outputs": [],
   "source": [
    "from GeneticAlgorithm import Solution, GeneticAlgo"
   ]
  },
  {
   "cell_type": "code",
   "execution_count": 37,
   "metadata": {},
   "outputs": [
    {
     "name": "stdout",
     "output_type": "stream",
     "text": [
      "15625 15625\n",
      "(0, 0, 0, 0, 0, 0)\n",
      "(1, 0, 0, 0, 0, 0)\n",
      "(2, 0, 0, 0, 0, 0)\n",
      "(3, 0, 0, 0, 0, 0)\n",
      "(4, 0, 0, 0, 0, 0)\n",
      "(0, 1, 0, 0, 0, 0)\n"
     ]
    }
   ],
   "source": [
    "NB_STATE = 5\n",
    "\n",
    "def gen_index() -> list:\n",
    "    current = [0 for _ in range(len(env.liste_alpha) + 1)]\n",
    "    def next(liste):\n",
    "        next_liste = [x for x in liste]\n",
    "        i = 0\n",
    "        while (i<len(liste)) and liste[i] == NB_STATE-1:\n",
    "            next_liste[i] = 0\n",
    "            i +=1\n",
    "        if (i<len(liste)):\n",
    "            next_liste[i] += 1\n",
    "            return tuple(next_liste), True\n",
    "        else:\n",
    "            return tuple(next_liste), False\n",
    "    \n",
    "    res = [tuple(current)]\n",
    "    next_liste, rep = next(current)\n",
    "    while rep:\n",
    "        res.append(next_liste)\n",
    "        current = next_liste\n",
    "        next_liste, rep = next(current)\n",
    "    return res\n",
    "\n",
    "indexes = gen_index()\n",
    "print(len(indexes), NB_STATE**(len(env.liste_alpha) +1))\n",
    "\n",
    "for i in range(NB_STATE+1):\n",
    "    print(indexes[i])"
   ]
  },
  {
   "cell_type": "code",
   "execution_count": 39,
   "metadata": {},
   "outputs": [
    {
     "data": {
      "image/png": "[encoded data removed]",
      "text/plain": [
       "<Figure size 640x480 with 1 Axes>"
      ]
     },
     "metadata": {},
     "output_type": "display_data"
    },
    {
     "name": "stdout",
     "output_type": "stream",
     "text": [
      "25 : 988.1538127990443\n"
     ]
    },
    {
     "ename": "KeyboardInterrupt",
     "evalue": "",
     "output_type": "error",
     "traceback": [
      "\u001b[0;31m---------------------------------------------------------------------------\u001b[0m",
      "\u001b[0;31mKeyboardInterrupt\u001b[0m                         Traceback (most recent call last)",
      "Cell \u001b[0;32mIn[39], line 83\u001b[0m\n\u001b[1;32m     80\u001b[0m     \u001b[38;5;28;01mif\u001b[39;00m gen\u001b[38;5;241m%\u001b[39m\u001b[38;5;241m1\u001b[39m \u001b[38;5;241m==\u001b[39m \u001b[38;5;241m0\u001b[39m:\n\u001b[1;32m     81\u001b[0m         \u001b[38;5;28mprint\u001b[39m(gen, \u001b[38;5;124m'\u001b[39m\u001b[38;5;124m:\u001b[39m\u001b[38;5;124m'\u001b[39m, sol\u001b[38;5;241m.\u001b[39mscore)\n\u001b[0;32m---> 83\u001b[0m last_pop, best_pop \u001b[38;5;241m=\u001b[39m \u001b[43mm\u001b[49m\u001b[38;5;241;43m.\u001b[39;49m\u001b[43malgo\u001b[49m\u001b[43m(\u001b[49m\u001b[43mgen\u001b[49m\u001b[38;5;241;43m=\u001b[39;49m\u001b[38;5;241;43m1\u001b[39;49m\u001b[43m,\u001b[49m\u001b[43m \u001b[49m\u001b[43mfct\u001b[49m\u001b[38;5;241;43m=\u001b[39;49m\u001b[43mf\u001b[49m\u001b[43m)\u001b[49m\n",
      "File \u001b[0;32m~/Documents/Cours/M1/PE/EP-trajectory-optimisation/algo_gen/GeneticAlgorithm.py:79\u001b[0m, in \u001b[0;36mGeneticAlgo.algo\u001b[0;34m(self, a, b, c, gen, fct)\u001b[0m\n\u001b[1;32m     77\u001b[0m \u001b[38;5;28;01mfor\u001b[39;00m actual_gen \u001b[38;5;129;01min\u001b[39;00m \u001b[38;5;28mrange\u001b[39m(\u001b[38;5;28mself\u001b[39m\u001b[38;5;241m.\u001b[39mnb_gen):\n\u001b[1;32m     78\u001b[0m     \u001b[38;5;28mself\u001b[39m\u001b[38;5;241m.\u001b[39msort_pop(pop)\n\u001b[0;32m---> 79\u001b[0m     pop \u001b[38;5;241m=\u001b[39m \u001b[38;5;28;43mself\u001b[39;49m\u001b[38;5;241;43m.\u001b[39;49m\u001b[43mnext_pop\u001b[49m\u001b[43m(\u001b[49m\u001b[43mpop\u001b[49m\u001b[43m,\u001b[49m\u001b[43m \u001b[49m\u001b[43ma\u001b[49m\u001b[43m,\u001b[49m\u001b[43m \u001b[49m\u001b[43mb\u001b[49m\u001b[43m,\u001b[49m\u001b[43m \u001b[49m\u001b[43mc\u001b[49m\u001b[43m)\u001b[49m\n\u001b[1;32m     80\u001b[0m     best_of_each_gen\u001b[38;5;241m.\u001b[39mappend(pop[\u001b[38;5;241m0\u001b[39m])\n\u001b[1;32m     81\u001b[0m     \u001b[38;5;28;01mif\u001b[39;00m (actual_gen\u001b[38;5;241m+\u001b[39m\u001b[38;5;241m1\u001b[39m) \u001b[38;5;241m%\u001b[39m gen \u001b[38;5;241m==\u001b[39m \u001b[38;5;241m0\u001b[39m:\n",
      "File \u001b[0;32m~/Documents/Cours/M1/PE/EP-trajectory-optimisation/algo_gen/GeneticAlgorithm.py:54\u001b[0m, in \u001b[0;36mGeneticAlgo.next_pop\u001b[0;34m(self, pop, a, b, c)\u001b[0m\n\u001b[1;32m     52\u001b[0m \u001b[38;5;28;01mfor\u001b[39;00m i \u001b[38;5;129;01min\u001b[39;00m \u001b[38;5;28mrange\u001b[39m(K):\n\u001b[1;32m     53\u001b[0m     \u001b[38;5;28;01mfor\u001b[39;00m j \u001b[38;5;129;01min\u001b[39;00m \u001b[38;5;28mrange\u001b[39m(i\u001b[38;5;241m+\u001b[39m\u001b[38;5;241m1\u001b[39m, K):\n\u001b[0;32m---> 54\u001b[0m         new_pop\u001b[38;5;241m.\u001b[39mappend(\u001b[38;5;28;43mself\u001b[39;49m\u001b[38;5;241;43m.\u001b[39;49m\u001b[43mcross_over\u001b[49m\u001b[43m(\u001b[49m\u001b[43mpop\u001b[49m\u001b[43m[\u001b[49m\u001b[43mi\u001b[49m\u001b[43m]\u001b[49m\u001b[43m,\u001b[49m\u001b[43m \u001b[49m\u001b[43mpop\u001b[49m\u001b[43m[\u001b[49m\u001b[43mj\u001b[49m\u001b[43m]\u001b[49m\u001b[43m)\u001b[49m)\n\u001b[1;32m     56\u001b[0m \u001b[38;5;28;01mfor\u001b[39;00m i \u001b[38;5;129;01min\u001b[39;00m \u001b[38;5;28mrange\u001b[39m(\u001b[38;5;28mint\u001b[39m(\u001b[38;5;28mself\u001b[39m\u001b[38;5;241m.\u001b[39mlen_pop\u001b[38;5;241m*\u001b[39mc)):\n\u001b[1;32m     57\u001b[0m     new_pop\u001b[38;5;241m.\u001b[39mappend(\u001b[38;5;28mself\u001b[39m\u001b[38;5;241m.\u001b[39mmutate(pop[i]))\n",
      "Cell \u001b[0;32mIn[39], line 58\u001b[0m, in \u001b[0;36mMyAlgo.cross_over\u001b[0;34m(self, x, y)\u001b[0m\n\u001b[1;32m     55\u001b[0m \u001b[38;5;28;01mfor\u001b[39;00m i \u001b[38;5;129;01min\u001b[39;00m indexes:\n\u001b[1;32m     56\u001b[0m     z[i] \u001b[38;5;241m=\u001b[39m [rd\u001b[38;5;241m.\u001b[39mchoice([x\u001b[38;5;241m.\u001b[39msol[i][\u001b[38;5;241m0\u001b[39m], y\u001b[38;5;241m.\u001b[39msol[i][\u001b[38;5;241m0\u001b[39m]]),\n\u001b[1;32m     57\u001b[0m                      (x\u001b[38;5;241m.\u001b[39msol[i][\u001b[38;5;241m1\u001b[39m] \u001b[38;5;241m+\u001b[39m y\u001b[38;5;241m.\u001b[39msol[i][\u001b[38;5;241m1\u001b[39m])\u001b[38;5;241m/\u001b[39m\u001b[38;5;241m2\u001b[39m ]\n\u001b[0;32m---> 58\u001b[0m \u001b[38;5;28;01mreturn\u001b[39;00m Solution(z, \u001b[38;5;28;43mself\u001b[39;49m\u001b[38;5;241;43m.\u001b[39;49m\u001b[43mscore\u001b[49m\u001b[43m(\u001b[49m\u001b[43mz\u001b[49m\u001b[43m)\u001b[49m)\n",
      "Cell \u001b[0;32mIn[39], line 20\u001b[0m, in \u001b[0;36mMyAlgo.score\u001b[0;34m(self, x, show)\u001b[0m\n\u001b[1;32m     17\u001b[0m step \u001b[38;5;241m=\u001b[39m \u001b[38;5;241m0\u001b[39m\n\u001b[1;32m     18\u001b[0m \u001b[38;5;28;01mwhile\u001b[39;00m running:\n\u001b[1;32m     19\u001b[0m     \u001b[38;5;66;03m# Simulation\u001b[39;00m\n\u001b[0;32m---> 20\u001b[0m     state \u001b[38;5;241m=\u001b[39m \u001b[43menv\u001b[49m\u001b[38;5;241;43m.\u001b[39;49m\u001b[43mget_state\u001b[49m\u001b[43m(\u001b[49m\u001b[43m)\u001b[49m\n\u001b[1;32m     21\u001b[0m     approx_state \u001b[38;5;241m=\u001b[39m [\u001b[38;5;241m0\u001b[39m \u001b[38;5;28;01mfor\u001b[39;00m _ \u001b[38;5;129;01min\u001b[39;00m \u001b[38;5;28mrange\u001b[39m(\u001b[38;5;28mlen\u001b[39m(state))]\n\u001b[1;32m     23\u001b[0m     \u001b[38;5;28;01mfor\u001b[39;00m i \u001b[38;5;129;01min\u001b[39;00m \u001b[38;5;28mrange\u001b[39m(\u001b[38;5;28mlen\u001b[39m(state)):\n",
      "Cell \u001b[0;32mIn[35], line 22\u001b[0m, in \u001b[0;36mMyEnv.get_state\u001b[0;34m(self)\u001b[0m\n\u001b[1;32m     20\u001b[0m state \u001b[38;5;241m=\u001b[39m [\u001b[38;5;28mself\u001b[39m\u001b[38;5;241m.\u001b[39mcar\u001b[38;5;241m.\u001b[39mspeed]\n\u001b[1;32m     21\u001b[0m \u001b[38;5;28;01mfor\u001b[39;00m alpha \u001b[38;5;129;01min\u001b[39;00m \u001b[38;5;28mself\u001b[39m\u001b[38;5;241m.\u001b[39mliste_alpha:\n\u001b[0;32m---> 22\u001b[0m     coor \u001b[38;5;241m=\u001b[39m \u001b[38;5;28;43mself\u001b[39;49m\u001b[38;5;241;43m.\u001b[39;49m\u001b[43mtrack\u001b[49m\u001b[38;5;241;43m.\u001b[39;49m\u001b[43mnext_wall\u001b[49m\u001b[43m(\u001b[49m\u001b[38;5;28;43mself\u001b[39;49m\u001b[38;5;241;43m.\u001b[39;49m\u001b[43mcar\u001b[49m\u001b[38;5;241;43m.\u001b[39;49m\u001b[43mcoor\u001b[49m\u001b[43m,\u001b[49m\u001b[43m \u001b[49m\u001b[38;5;28;43mself\u001b[39;49m\u001b[38;5;241;43m.\u001b[39;49m\u001b[43mcar\u001b[49m\u001b[38;5;241;43m.\u001b[39;49m\u001b[43malpha\u001b[49m\u001b[43m \u001b[49m\u001b[38;5;241;43m+\u001b[39;49m\u001b[43m \u001b[49m\u001b[43malpha\u001b[49m\u001b[43m,\u001b[49m\u001b[43m \u001b[49m\u001b[43mdist_max\u001b[49m\u001b[38;5;241;43m=\u001b[39;49m\u001b[38;5;28;43mself\u001b[39;49m\u001b[38;5;241;43m.\u001b[39;49m\u001b[43mmax_dist_wall\u001b[49m\u001b[43m)\u001b[49m\n\u001b[1;32m     23\u001b[0m     state\u001b[38;5;241m.\u001b[39mappend(\u001b[38;5;28mself\u001b[39m\u001b[38;5;241m.\u001b[39mcar\u001b[38;5;241m.\u001b[39mcoor\u001b[38;5;241m.\u001b[39mdist(coor))\n\u001b[1;32m     24\u001b[0m \u001b[38;5;28;01mreturn\u001b[39;00m state\n",
      "Cell \u001b[0;32mIn[32], line 95\u001b[0m, in \u001b[0;36mTrack.next_wall\u001b[0;34m(self, coor, alpha, dist_max)\u001b[0m\n\u001b[1;32m     93\u001b[0m         \u001b[38;5;28;01mbreak\u001b[39;00m\n\u001b[1;32m     94\u001b[0m     i \u001b[38;5;241m+\u001b[39m\u001b[38;5;241m=\u001b[39m \u001b[38;5;241m1\u001b[39m\n\u001b[0;32m---> 95\u001b[0m     next_coor  \u001b[38;5;241m=\u001b[39m \u001b[43mCoor\u001b[49m\u001b[43m(\u001b[49m\u001b[43m \u001b[49m\u001b[43m(\u001b[49m\u001b[38;5;28;43mint\u001b[39;49m\u001b[43m(\u001b[49m\u001b[38;5;28;43mround\u001b[39;49m\u001b[43m(\u001b[49m\u001b[43mcoor\u001b[49m\u001b[38;5;241;43m.\u001b[39;49m\u001b[43mx\u001b[49m\u001b[43m \u001b[49m\u001b[38;5;241;43m+\u001b[39;49m\u001b[43m \u001b[49m\u001b[43mi\u001b[49m\u001b[38;5;241;43m*\u001b[39;49m\u001b[43mdx\u001b[49m\u001b[43m)\u001b[49m\u001b[43m)\u001b[49m\u001b[43m,\u001b[49m\u001b[43m \u001b[49m\u001b[38;5;28;43mint\u001b[39;49m\u001b[43m(\u001b[49m\u001b[38;5;28;43mround\u001b[39;49m\u001b[43m(\u001b[49m\u001b[43mcoor\u001b[49m\u001b[38;5;241;43m.\u001b[39;49m\u001b[43my\u001b[49m\u001b[43m \u001b[49m\u001b[38;5;241;43m+\u001b[39;49m\u001b[43m \u001b[49m\u001b[43mi\u001b[49m\u001b[38;5;241;43m*\u001b[39;49m\u001b[43mdy\u001b[49m\u001b[43m)\u001b[49m\u001b[43m)\u001b[49m\u001b[43m)\u001b[49m\u001b[43m \u001b[49m\u001b[43m)\u001b[49m\n\u001b[1;32m     96\u001b[0m \u001b[38;5;28;01mreturn\u001b[39;00m next_coor\n",
      "Cell \u001b[0;32mIn[31], line 2\u001b[0m, in \u001b[0;36mCoor.__init__\u001b[0;34m(self, coor)\u001b[0m\n\u001b[1;32m      1\u001b[0m \u001b[38;5;28;01mclass\u001b[39;00m \u001b[38;5;21;01mCoor\u001b[39;00m():\n\u001b[0;32m----> 2\u001b[0m     \u001b[38;5;28;01mdef\u001b[39;00m \u001b[38;5;21m__init__\u001b[39m(\u001b[38;5;28mself\u001b[39m, coor):\n\u001b[1;32m      3\u001b[0m         \u001b[38;5;28mself\u001b[39m\u001b[38;5;241m.\u001b[39mx \u001b[38;5;241m=\u001b[39m coor[\u001b[38;5;241m0\u001b[39m]\n\u001b[1;32m      4\u001b[0m         \u001b[38;5;28mself\u001b[39m\u001b[38;5;241m.\u001b[39my \u001b[38;5;241m=\u001b[39m coor[\u001b[38;5;241m1\u001b[39m]\n",
      "\u001b[0;31mKeyboardInterrupt\u001b[0m: "
     ]
    }
   ],
   "source": [
    "class MyAlgo(GeneticAlgo):\n",
    "    def __init__(self, nb_gen=5, len_pop=10):\n",
    "        super().__init__(nb_gen, len_pop)\n",
    "        self.speed_max = MAX_SPEED\n",
    "        self.dist_max = env.max_dist_wall\n",
    "\n",
    "        self.upper_values = [self.speed_max]\n",
    "        for _ in range(len(env.liste_alpha)):\n",
    "            self.upper_values.append(self.dist_max)\n",
    "\n",
    "    def score(self, x, show=False):\n",
    "        max_step = 500\n",
    "        env.reset()\n",
    "\n",
    "        running = True\n",
    "        sum_reward = 0\n",
    "        step = 0\n",
    "        while running:\n",
    "            # Simulation\n",
    "            state = env.get_state()\n",
    "            approx_state = [0 for _ in range(len(state))]\n",
    "\n",
    "            for i in range(len(state)):\n",
    "                j= 0\n",
    "                while not (j*self.upper_values[i]/NB_STATE <= state[i] <= (j+1)*self.upper_values[i]/NB_STATE):\n",
    "                    j +=1\n",
    "                approx_state[i] = min(j, NB_STATE-1)\n",
    "            approx_state = tuple(approx_state)\n",
    "\n",
    "            #print(state)\n",
    "            #print(approx_state)\n",
    "\n",
    "            action = x[approx_state]\n",
    "            obs, reward, done, infos = env.step(action)\n",
    "            sum_reward += reward\n",
    "\n",
    "            # Render the game\n",
    "            if show:\n",
    "                env.render(waiting_time=0.01, show_trajectory=True, show_dist_to_wall=True)\n",
    "\n",
    "            step += 1\n",
    "            if (done == True) or (step >=max_step):\n",
    "                running = False\n",
    "        \n",
    "        return sum_reward\n",
    "\n",
    "    def gen_sol(self):\n",
    "        x = dict()\n",
    "        for i in indexes:\n",
    "            x[i] = env.random_action()\n",
    "        return Solution(x, self.score(x))\n",
    "\n",
    "    def cross_over(self, x, y):\n",
    "        z = dict()\n",
    "        for i in indexes:\n",
    "            z[i] = [rd.choice([x.sol[i][0], y.sol[i][0]]),\n",
    "                             (x.sol[i][1] + y.sol[i][1])/2 ]\n",
    "        return Solution(z, self.score(z))\n",
    "    \n",
    "    def mutate(self, x:Solution):\n",
    "        z = dict()\n",
    "        p = 0.08\n",
    "        for i in indexes:\n",
    "            if rd.random() < p:\n",
    "                z[i] = env.random_action()\n",
    "            else:\n",
    "                z[i] = [x.sol[i][0], x.sol[i][1]]\n",
    "        return Solution(z, self.score(z))\n",
    "\n",
    "\n",
    "m = MyAlgo()\n",
    "m.nb_gen = 50\n",
    "m.len_pop = 500\n",
    "\n",
    "def f(gen, sol):\n",
    "    gen = gen+1\n",
    "    print(\"CALLED\", gen)\n",
    "    if gen%1 == 0:\n",
    "        m.score(sol.sol, show=True)\n",
    "    if gen%1 == 0:\n",
    "        print(gen, ':', sol.score)\n",
    "\n",
    "last_pop, best_pop = m.algo(gen=1, fct=f)\n"
   ]
  },
  {
   "cell_type": "code",
   "execution_count": 24,
   "metadata": {},
   "outputs": [
    {
     "data": {
      "text/plain": [
       "[<matplotlib.lines.Line2D at 0x7044bbb3abf0>]"
      ]
     },
     "execution_count": 24,
     "metadata": {},
     "output_type": "execute_result"
    },
    {
     "data": {
      "image/png": "[encoded data removed]",
      "text/plain": [
       "<Figure size 640x480 with 1 Axes>"
      ]
     },
     "metadata": {},
     "output_type": "display_data"
    }
   ],
   "source": [
    "liste_x = [i for i in range(m.nb_gen)]\n",
    "liste_y = [s.score for s in best_pop]\n",
    "plt.plot(liste_x, liste_y, 'o')"
   ]
  },
  {
   "cell_type": "code",
   "execution_count": 27,
   "metadata": {},
   "outputs": [
    {
     "data": {
      "image/png": "[encoded data removed]",
      "text/plain": [
       "<Figure size 640x480 with 1 Axes>"
      ]
     },
     "metadata": {},
     "output_type": "display_data"
    }
   ],
   "source": [
    "m.score(last_pop[0].sol, show=True)\n",
    "env.close()"
   ]
  }
 ],
 "metadata": {
  "kernelspec": {
   "display_name": "Python 3",
   "language": "python",
   "name": "python3"
  },
  "language_info": {
   "codemirror_mode": {
    "name": "ipython",
    "version": 3
   },
   "file_extension": ".py",
   "mimetype": "text/x-python",
   "name": "python",
   "nbconvert_exporter": "python",
   "pygments_lexer": "ipython3",
   "version": "3.10.12"
  }
 },
 "nbformat": 4,
 "nbformat_minor": 2
}
