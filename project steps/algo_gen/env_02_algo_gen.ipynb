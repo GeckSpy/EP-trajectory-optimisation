{
 "cells": [
  {
   "cell_type": "markdown",
   "metadata": {},
   "source": [
    "# Creating gymnasium environment"
   ]
  },
  {
   "cell_type": "markdown",
   "metadata": {
    "notebookRunGroups": {
     "groupValue": "1"
    }
   },
   "source": [
    "### Importing Packages"
   ]
  },
  {
   "cell_type": "code",
   "execution_count": 229,
   "metadata": {},
   "outputs": [],
   "source": [
    "import numpy as np\n",
    "import matplotlib.pyplot as plt\n",
    "from IPython import display\n",
    "import random as rd\n",
    "import time\n",
    "\n",
    "from gym import Env, spaces"
   ]
  },
  {
   "cell_type": "markdown",
   "metadata": {
    "notebookRunGroups": {
     "groupValue": "1"
    }
   },
   "source": [
    "### Coor class"
   ]
  },
  {
   "cell_type": "code",
   "execution_count": 230,
   "metadata": {},
   "outputs": [],
   "source": [
    "class Coor():\n",
    "    def __init__(self, coor):\n",
    "        self.x = coor[0]\n",
    "        self.y = coor[1]\n",
    "\n",
    "    def get(self):\n",
    "        return self.x, self.y\n",
    "    \n",
    "    def __str__(self):\n",
    "        return \"(\" + str(self.x) + \", \" + str(self.y) + \")\"\n",
    "    \n",
    "    def __add__(self, coor2):\n",
    "        return Coor((self.x + coor2.x, self.y + coor2.y))\n",
    "    \n",
    "    def __eq__(self, coor2):\n",
    "        if coor2 == None:\n",
    "            return False\n",
    "        return (self.x==coor2.x) and (self.y==coor2.y)\n",
    "    \n",
    "    def __neg__(self):\n",
    "        x,y = self.get()\n",
    "        return Coor((-x,-y))\n",
    "    \n",
    "    def __sub__(self, coor2):\n",
    "        coor = - coor2\n",
    "        return self + coor\n",
    "    \n",
    "    def norm(self):\n",
    "        x,y = self.get()\n",
    "        return np.sqrt(x*x + y*y)\n",
    "    \n",
    "    def dist(self, coor2):\n",
    "        return (self -coor2).norm()\n"
   ]
  },
  {
   "cell_type": "markdown",
   "metadata": {},
   "source": [
    "### Track class"
   ]
  },
  {
   "cell_type": "markdown",
   "metadata": {},
   "source": [
    "Contrary to previous environment, track are not matrix anymore."
   ]
  },
  {
   "cell_type": "code",
   "execution_count": 231,
   "metadata": {},
   "outputs": [],
   "source": [
    "RED = [255, 0, 0]\n",
    "GREEN = [0, 255, 0]\n",
    "BLUE = [0, 0, 255]\n",
    "GREY = [70 for _ in range(3)]\n",
    "WHITE = [240 for _ in range(3)]\n",
    "\n",
    "START_CHAR = 2\n",
    "END_CHAR = 3\n",
    "CAR_CHAR = 4\n",
    "\n",
    "def color(b):\n",
    "    if b == START_CHAR:\n",
    "        return GREEN\n",
    "    elif b == END_CHAR:\n",
    "        return RED\n",
    "    elif b == 1:\n",
    "        return GREY\n",
    "    else:\n",
    "        return WHITE\n",
    "    \n",
    "\n",
    "class Track():\n",
    "    def __init__(self, tab):\n",
    "        #switching height and width for plan approach\n",
    "        self.width: int = len(tab)\n",
    "        self.height: int = len((tab[0]))\n",
    "        self.basic_info_track:list = [[i for i in j] for j in tab]\n",
    "        \n",
    "        self.info_track:list = [[None for _ in range(self.height)] for _ in range(self.width)]\n",
    "        for x in range(self.width):\n",
    "            for y in range(self.height):\n",
    "                self.info_track[x][y] = self.basic_info_track[self.height-1-y][x]\n",
    "\n",
    "        self.color_track = [[color(self.info_track[y][x]) for y in range(self.height)] for x in range(self.width)]\n",
    "\n",
    "        self.end = None\n",
    "        self.start = None\n",
    "        for i in range(self.height):\n",
    "            for j in range(self.width):\n",
    "                if self.info_track[i][j] == START_CHAR:\n",
    "                    self.start = Coor((i,j))\n",
    "                if self.info_track[i][j] == END_CHAR:\n",
    "                    self.end = Coor((i,j))\n",
    "\n",
    "    def get_color(self, coor:Coor):\n",
    "        \"\"\"return the color of the case x,y\"\"\"\n",
    "        x,y = coor.get()\n",
    "        return color(self.info_track[x][y])\n",
    "    \n",
    "    def is_wall(self, coor:Coor):\n",
    "        \"\"\"Return True if case (x,y) is a wall\"\"\"\n",
    "        x,y = coor.get()\n",
    "        nx,ny = int(round(x)), int(round(y))\n",
    "        return (self.info_track[nx][ny] == 1)\n",
    "\n",
    "    def get_start(self):\n",
    "        \"\"\"Return coordinate of start\"\"\"\n",
    "        if self.start == None:\n",
    "            return None\n",
    "        return self.start.get()\n",
    "    \n",
    "    def get_end(self):\n",
    "        \"\"\"Return coordinate of end\"\"\"\n",
    "        return self.end.get()\n",
    "    \n",
    "    def is_case_ridable(self, coor: Coor):\n",
    "        \"\"\"Return if the car can go on the coordinate or not\"\"\"\n",
    "        x,y = coor.get()\n",
    "        x,y = int(round(x)), int(round(y))\n",
    "        if not (x>=0 and x<self.width and y>=0 and y<self.height):\n",
    "            return False\n",
    "        return not self.is_wall(coor)\n",
    "\n",
    "    def plot(self, hide=False):\n",
    "        \"\"\"Plot the track using matplotlib\"\"\"\n",
    "        plt.imshow(self.color_track, origin='lower')\n",
    "        # for x in range(self.width):\n",
    "        #     for y in range(self.height):\n",
    "        #         plt.text(x, y, str(x) + \" \" + str(y))\n",
    "        plt.axis(\"off\")\n",
    "        if not hide:\n",
    "            plt.show()"
   ]
  },
  {
   "cell_type": "markdown",
   "metadata": {},
   "source": [
    "### Creating the track"
   ]
  },
  {
   "cell_type": "code",
   "execution_count": 232,
   "metadata": {},
   "outputs": [
    {
     "data": {
      "image/png": "[encoded data removed]",
      "text/plain": [
       "<Figure size 640x480 with 1 Axes>"
      ]
     },
     "metadata": {},
     "output_type": "display_data"
    },
    {
     "name": "stdout",
     "output_type": "stream",
     "text": [
      "track shape: 200 200\n",
      "start at coordinates: (30, 0)\n",
      "end at coordinates: (0, 29)\n"
     ]
    }
   ],
   "source": [
    "def place_circle(tab, r, pos: Coor, symbol):\n",
    "    height = len(tab)\n",
    "    width = len(tab[0])\n",
    "    for i in range(height):\n",
    "        for j in range(width):\n",
    "            if pos.dist(Coor((i,j))) < r:\n",
    "                tab[i][j] = symbol\n",
    "    return tab\n",
    "\n",
    "N = 100\n",
    "turn_1 = [[1 for _ in range(N)] for _ in range(N)]\n",
    "turn_1 = place_circle(turn_1, 110, Coor((0, 0)), 0)\n",
    "turn_1 = place_circle(turn_1, 80, Coor((0, 0)), 1)\n",
    "turn_1[N-6][0] = START_CHAR\n",
    "turn_1[8][N-10] = END_CHAR\n",
    "\n",
    "N = 200\n",
    "turn_2 = [[0 for _ in range(N)] for _ in range(N)]\n",
    "for i in range(13):\n",
    "    turn_2 = place_circle(turn_2, 20, Coor((N-10*i, 10*i)), 1)\n",
    "for i in range(4):\n",
    "    turn_2 = place_circle(turn_2, 20, Coor((10*i, N-10*i)), 1)\n",
    "\n",
    "turn_2[N-1][30] = START_CHAR\n",
    "turn_2[N-30][0] = END_CHAR\n",
    "\n",
    "track_1 = Track(turn_2)\n",
    "track_1.plot()\n",
    "print(\"track shape:\", track_1.height, track_1.width)\n",
    "print(\"start at coordinates:\", track_1.start)\n",
    "print(\"end at coordinates:\", track_1.end)"
   ]
  },
  {
   "cell_type": "markdown",
   "metadata": {},
   "source": [
    "### Car class"
   ]
  },
  {
   "cell_type": "code",
   "execution_count": 233,
   "metadata": {},
   "outputs": [],
   "source": [
    "\"\"\"Constant\"\"\"\n",
    "SPEED_MAX = 20\n",
    "\n",
    "\"\"\"Class\"\"\"\n",
    "class Car():\n",
    "    def __init__(self, coor:Coor):\n",
    "        self.coor: Coor = Coor((coor.x, coor.y))\n",
    "        self.speed: float = 0\n",
    "        self.alpha: float = 0 # The angle of the car according to unitary cicrle\n",
    "        self.trajectory = [Coor((coor.x, coor.y))]\n",
    "\n",
    "    def __str__(self):\n",
    "        return \"C[\" + str(self.coor) + \" \" + str(self.speed) + \" \" + str(self.alpha) + \"]\"\n",
    "    \n",
    "\n",
    "    def accelerate(self, amont=1):\n",
    "        \"\"\"Increase speed of the car\"\"\"\n",
    "        acceleration_constant = 1\n",
    "        self.speed += acceleration_constant*amont\n",
    "        self.speed = min(SPEED_MAX, self.speed)\n",
    "\n",
    "    def brake(self, amont=1):\n",
    "        \"\"\"Decrease speed of the car (can't drive backward)\"\"\"\n",
    "        brake_constant = 1.5\n",
    "        self.speed /= (brake_constant*amont)\n",
    "        if self.speed < 0.01:\n",
    "            self.speed = 0\n",
    "\n",
    "    def turn(self, deg):\n",
    "        \"\"\"Change the current rotation of the car\"\"\"\n",
    "        self.alpha += deg\n",
    "        self.alpha = self.alpha % 360\n",
    "\n",
    "    def get_speed_coor(self):\n",
    "        cst: float = np.pi / 180\n",
    "        dx: float = self.speed * np.cos(self.alpha * cst)\n",
    "        dy: float = self.speed * np.sin(self.alpha * cst)\n",
    "        return Coor((dx,dy))\n",
    "\n",
    "    def move(self):\n",
    "        \"\"\"Change the coordinate of the care according to its speed and alpha\"\"\"\n",
    "        dx,dy = self.get_speed_coor().get()\n",
    "        self.coor.x += dx\n",
    "        self.coor.y += dy\n",
    "        self.trajectory.append(Coor((self.coor.x, self.coor.y)))\n",
    "\n",
    "    def dic(self):\n",
    "        return {\"coor\":self.coor, \"speed\":self.speed, \"alpha\":self.alpha, \"trajectory\":self.trajectory}\n",
    "\n",
    "    def plot(self, markersize=8, vector_constant=2, show_trajectory=False, head_width=1):\n",
    "        \"\"\"Plot the car and is speed vectors\"\"\"\n",
    "        # Plot car\n",
    "        x,y = self.coor.get()\n",
    "        plt.plot(x, y, \"o\", color='blue', markersize=markersize)\n",
    "        plt.axis(\"off\")\n",
    "\n",
    "        # Plot \n",
    "        if show_trajectory:\n",
    "            liste_x = [coor.x for coor in self.trajectory]\n",
    "            liste_y = [coor.y for coor in self.trajectory]\n",
    "            plt.plot(liste_x, liste_y, \"-o\", color=\"blue\", markersize=2)\n",
    "                 \n",
    "\n",
    "        # Plot car's directoin\n",
    "        cst: float = np.pi / 180\n",
    "        dx: float = np.cos(self.alpha * cst)\n",
    "        dy: float = np.sin(self.alpha * cst)\n",
    "        plt.arrow(x, y, dx/10, dy/10, head_width=head_width)\n",
    "        plt.plot([x, x+ dx*self.speed*vector_constant], [y, y+ dy*self.speed*vector_constant], \"-\", color=\"red\")\n"
   ]
  },
  {
   "cell_type": "markdown",
   "metadata": {},
   "source": [
    "### Gym env"
   ]
  },
  {
   "cell_type": "markdown",
   "metadata": {},
   "source": [
    "An anction is a $(a,b) \\in \\{-1,0,1\\} \\times \\{-K,...,0,...,K\\}$ where $K$ is a constant that define the maximum angle the car can turn in one movement.\n",
    " - -1 is for brake\n",
    " - 1 for accelearation\n",
    " - 0 for nothing."
   ]
  },
  {
   "cell_type": "code",
   "execution_count": 234,
   "metadata": {},
   "outputs": [],
   "source": [
    "class MyEnv(Env):\n",
    "    def __init__(self, track: Track):\n",
    "        super(MyEnv, self).__init__()\n",
    "        self.max_turn = 45\n",
    "        # Define an action space ranging from 0 to 3\n",
    "        self.action_space = [i for i in range(4)]\n",
    "\n",
    "        self.track: Track = track\n",
    "        self.car: Car = Car(track.start)\n",
    "\n",
    "        self.canvas = np.array(self.track.color_track)\n",
    "\n",
    "\n",
    "    def get_state(self):\n",
    "        \"\"\"Return actual state of the env\"\"\"\n",
    "        state = np.array(self.track.info_track)\n",
    "        return state, [val for _,val in self.car.dic().items()]\n",
    "\n",
    "    def reset(self):\n",
    "        \"\"\"Reset the environment\"\"\"\n",
    "        self.car = Car(self.track.start)\n",
    "        return self.canvas\n",
    "\n",
    "    def render(self, waiting_time=0.01):\n",
    "        \"\"\"Render the environment\"\"\"\n",
    "        self.track.plot(hide=True)\n",
    "        self.car.plot(show_trajectory=True)\n",
    "        display.clear_output(wait=True)\n",
    "        plt.show()\n",
    "        time.sleep(waiting_time)\n",
    "        \n",
    "        \n",
    "    def step(self, action):\n",
    "        \"\"\"Do a step, we suppose that the action is a possible one\"\"\"\n",
    "        is_done = False\n",
    "        arrival = False\n",
    "        as_crashed = False\n",
    "\n",
    "        reward = -1\n",
    "\n",
    "        previous_dist = self.car.coor.dist(self.track.start)\n",
    "        if action[0]==-1:\n",
    "            self.car.brake()\n",
    "        elif action[0]==1:\n",
    "            self.car.accelerate()\n",
    "        self.car.turn(action[1])\n",
    "        self.car.move()\n",
    "\n",
    "        new_dist = self.car.coor.dist(self.track.start)\n",
    "        #reward += 2 *(new_dist - previous_dist)\n",
    "\n",
    "        if not self.track.is_case_ridable(self.car.coor):\n",
    "            reward = -100\n",
    "            as_crashed = True\n",
    "            is_done = True\n",
    "\n",
    "        if self.car.coor.dist(self.track.end) <= 0.5:\n",
    "            reward = 200\n",
    "            arrival = True\n",
    "            is_done = True\n",
    "\n",
    "        return self.canvas, reward, is_done, [arrival, as_crashed]\n",
    "    \n",
    "    def random_action(self, p_accel=0.25, p_brake=0.25, p_turn=0.5):\n",
    "        \"\"\"Return random possible action according to probability\"\"\"\n",
    "        action = [0,0]\n",
    "        rd_accel = rd.random()\n",
    "        if rd_accel <= p_accel:\n",
    "            action[0] = 1\n",
    "        elif rd_accel <= p_accel + p_brake:\n",
    "            action[0] = -1\n",
    "        \n",
    "        if rd.random() <= p_turn:\n",
    "            action[1] = ((-1)**(rd.randint(0,1))) * rd.randint(-self.max_turn, self.max_turn)\n",
    "        return action\n",
    "\n",
    "env = MyEnv(track_1)"
   ]
  },
  {
   "cell_type": "markdown",
   "metadata": {},
   "source": [
    "# Genetic algo"
   ]
  },
  {
   "cell_type": "markdown",
   "metadata": {},
   "source": [
    "### Explanation for finding K"
   ]
  },
  {
   "cell_type": "markdown",
   "metadata": {},
   "source": [
    "Let $\\varepsilon_2$ be the proportion of population with mutation. We want to mutate more the best people. Let $a = \\varepsilon_2 \\times$ `LEN_POP`\n",
    "\n",
    "Then, we want a $K\\in \\mathbb{N}$ such that $a = \\underset{i=0}{\\overset{K}{\\sum}} i^2 = \\frac{1}{6}(2K^3 + 3K^2 +K)$\n",
    "\n",
    "Then we want $\\frac{1}{6}(2K^3 + 3K^2 +K) - a = 0$\n",
    "\n",
    "Therefore, $K = \\frac{1}{2} \\left( - \\frac{\\sqrt[3]{ \\sqrt{3}\\sqrt{3888a^2-1} -108a}}{3^{2/3}} - \\frac{1}{\\sqrt[3]{3} \\sqrt[3]{\\sqrt{3} \\sqrt{3888a^2 -1} -108a}} -1 \\right)$"
   ]
  },
  {
   "cell_type": "code",
   "execution_count": 235,
   "metadata": {},
   "outputs": [],
   "source": [
    "def find_K(a):\n",
    "    res1 = -np.cbrt(np.sqrt(3) * np.sqrt(3888* a**2 - 1) - 108 * a) / (3**(2/3))\n",
    "    res2 = -1/(np.cbrt(3) * np.cbrt(np.sqrt(3) * np.sqrt(3888* a**2 - 1) - 108 * a))\n",
    "    return 1/2 * (res1 + res2 -1)"
   ]
  },
  {
   "cell_type": "code",
   "execution_count": 236,
   "metadata": {},
   "outputs": [
    {
     "data": {
      "image/png": "[encoded data removed]",
      "text/plain": [
       "<Figure size 640x480 with 1 Axes>"
      ]
     },
     "metadata": {},
     "output_type": "display_data"
    },
    {
     "name": "stdout",
     "output_type": "stream",
     "text": [
      "3.4361538052378684 -6.4813647782102635e-09 \n",
      "the choosen solution for K is: 3\n"
     ]
    }
   ],
   "source": [
    "def create_f(a):\n",
    "    return lambda x: 1/3*x**3 + 1/2*x**2 + 1/6*x - a\n",
    "\n",
    "LEN_POP = 100\n",
    "epsilon_2 = 0.2\n",
    "a = epsilon_2 * LEN_POP\n",
    "f = create_f(a)\n",
    "\n",
    "x_liste = [x/10 for x in range(-50,50)]\n",
    "y_liste = [f(x) for x in x_liste]\n",
    "plt.plot(x_liste, y_liste, \"-\")\n",
    "\n",
    "K=find_K(a)\n",
    "plt.plot(K, f(K), \"o\", color=\"red\")\n",
    "plt.show()\n",
    "print(K, f(K), \"\\nthe choosen solution for K is:\", int(K))"
   ]
  },
  {
   "cell_type": "markdown",
   "metadata": {},
   "source": [
    "### Real algo gen"
   ]
  },
  {
   "cell_type": "code",
   "execution_count": 238,
   "metadata": {},
   "outputs": [
    {
     "data": {
      "image/png": "[encoded data removed]",
      "text/plain": [
       "<Figure size 640x480 with 1 Axes>"
      ]
     },
     "metadata": {},
     "output_type": "display_data"
    },
    {
     "data": {
      "image/png": "[encoded data removed]",
      "text/plain": [
       "<Figure size 640x480 with 1 Axes>"
      ]
     },
     "metadata": {},
     "output_type": "display_data"
    }
   ],
   "source": [
    "class Indiv():\n",
    "    def __init__(self, actions=[], sc=None):\n",
    "        self.actions = [x for x in actions]\n",
    "        # Not list of actions but list of Time -> action\n",
    "        self.score = sc\n",
    "\n",
    "def score(actions, show=False, wt=0.01):\n",
    "    env.reset()\n",
    "\n",
    "    sum_diff_dist = 0\n",
    "    running = True\n",
    "    sum_reward = 0\n",
    "    step = 0\n",
    "    max_step = 100\n",
    "    sum_dist = 0\n",
    "    has_crashed = False\n",
    "    while running:\n",
    "        x,y = env.car.coor.get()\n",
    "        prev_pos = Coor((x,y))\n",
    "        previous_dist = env.car.coor.dist(env.track.start)\n",
    "        # Simulation\n",
    "        action = [0, 0]\n",
    "        if step < len(actions):\n",
    "            action = actions[step]\n",
    "        obs, reward, done, infos = env.step(action)\n",
    "        sum_reward += reward\n",
    "        env.car.move()\n",
    "\n",
    "        # Render the game\n",
    "        if show:\n",
    "            env.render(waiting_time=wt)\n",
    "\n",
    "        step += 1\n",
    "        if (done == True) or (step >=max_step) or (step >= len(actions)) :\n",
    "            running = False\n",
    "\n",
    "        var = 0\n",
    "\n",
    "        if infos[0]:\n",
    "            var += -2000\n",
    "        if infos[1]:\n",
    "            var += 4000\n",
    "        if step >= max_step:\n",
    "            var += 1000\n",
    "\n",
    "\n",
    "        new_dist = env.car.coor.dist(env.track.start)\n",
    "        sum_diff_dist *= 0.95\n",
    "        sum_diff_dist += new_dist - previous_dist\n",
    "        \n",
    "        if infos[1]:\n",
    "            has_crashed = 1000\n",
    "        sum_dist += env.car.coor.dist(prev_pos)\n",
    "    \n",
    "    return -sum_dist + has_crashed #+ step/2\n",
    "    return var + env.car.coor.dist(env.track.end)*4 + step*2 + sum_diff_dist\n",
    "\n",
    "\n",
    "def rd_action():\n",
    "    return env.random_action()\n",
    "\n",
    "def gen_indiv():\n",
    "    len_actions = rd.randint(1, 10)\n",
    "    indiv = Indiv([rd_action() for _ in range(len_actions)])\n",
    "    indiv.score = score(indiv.actions)\n",
    "    return indiv\n",
    "\n",
    "    \n",
    "def gen_pop():\n",
    "    return [gen_indiv() for i in range(LEN_POP)]\n",
    "\n",
    "def mutate_indiv(indiv: Indiv):    \n",
    "    i1 = copy_indiv(indiv)\n",
    "    x = rd.randint(0, len(i1.actions)-1)\n",
    "    i1.actions[x] = rd_action()\n",
    "\n",
    "    i2 = copy_indiv(indiv)\n",
    "    x = rd.randint(0, len(i1.actions)-1)\n",
    "    i2.actions.insert(x, rd_action())\n",
    "\n",
    "    i3 = copy_indiv(indiv)\n",
    "    x = rd.randint(0, len(i1.actions)-1)\n",
    "    del i3.actions[x]\n",
    "\n",
    "    liste_mutations = [i1, i2, i3]\n",
    "    for indiv in liste_mutations:\n",
    "        indiv.score = score(indiv.actions)\n",
    "    return liste_mutations\n",
    "\n",
    "def cross_over(indiv1: Indiv, indiv2: Indiv):\n",
    "    co = Indiv()\n",
    "    for i in range(max(len(indiv1.actions), len(indiv2.actions))):\n",
    "        possible_acceleration = []\n",
    "        turn = 0\n",
    "        for indiv in [indiv1, indiv2]:\n",
    "            if i < len(indiv.actions):\n",
    "                possible_acceleration.append(indiv.actions[i][0])\n",
    "                turn += indiv.actions[i][1]\n",
    "        turn /= len(possible_acceleration)\n",
    "        \n",
    "        action = [rd.choice(possible_acceleration), turn]\n",
    "        co.actions.append(action)\n",
    "    co.score = score(co.actions)\n",
    "    return co\n",
    "\n",
    "def sort_pop(pop):\n",
    "    pop.sort( key = lambda x: x.score)\n",
    "\n",
    "def copy_indiv(indiv: Indiv):\n",
    "    return Indiv([x for x in indiv.actions], indiv.score)\n",
    "\n",
    "def select_pop(pop):\n",
    "    new_pop = []\n",
    "    pourcentage = 0.25\n",
    "    k = int( (1 + np.sqrt(1 + 8*pourcentage*LEN_POP)) / 2 ) \n",
    "\n",
    "    for i in range( int(0.2*LEN_POP) ):\n",
    "        new_pop.append(pop[i])\n",
    "        \n",
    "    for i in range(k):\n",
    "        for j in range(i+1, k):\n",
    "            new_pop.append(cross_over(pop[i], pop[j]))\n",
    "    \n",
    "\n",
    "    epsilon_2 = 0.15\n",
    "    a = epsilon_2 * LEN_POP\n",
    "    if False:\n",
    "        K = int(find_K(a))\n",
    "        for i in range(K):\n",
    "            for j in range((K-i)**2):\n",
    "                new_indiv = mutate_indiv(pop[i])\n",
    "                for id in new_indiv:\n",
    "                    new_pop.append(id)\n",
    "    else:\n",
    "        for i in range(int(a)):\n",
    "            new_indiv = mutate_indiv(pop[i])\n",
    "            for id in new_indiv:\n",
    "                new_pop.append(id)\n",
    "\n",
    "    while (len(new_pop) < LEN_POP):\n",
    "        new_pop.append(gen_indiv())\n",
    "\n",
    "    return new_pop\n",
    "\n",
    "\n",
    "LEN_POP = 600\n",
    "def algo_gen():\n",
    "    NB_GEN = 200\n",
    "    pop = gen_pop()\n",
    "    score_liste = []\n",
    "    for gen in range(NB_GEN):\n",
    "        sort_pop(pop)\n",
    "        pop = select_pop(pop)\n",
    "\n",
    "        if gen % 1 == 0:\n",
    "            print(gen, end=\" \")\n",
    "        if (gen+1) % 50 == 0:\n",
    "            print(pop[0].actions)\n",
    "            score(pop[0].actions, show=True)\n",
    "        score_liste.append(pop[0].score)\n",
    "    \n",
    "    for gen,sc in enumerate(score_liste):\n",
    "        plt.plot(gen, sc, '-o', color='blue', markersize=2)\n",
    "    plt.show()\n",
    "    return pop[0]\n",
    "\n",
    "        \n",
    "best = algo_gen()"
   ]
  },
  {
   "cell_type": "code",
   "execution_count": 184,
   "metadata": {},
   "outputs": [
    {
     "data": {
      "image/png": "[encoded data removed]",
      "text/plain": [
       "<Figure size 640x480 with 1 Axes>"
      ]
     },
     "metadata": {},
     "output_type": "display_data"
    }
   ],
   "source": [
    "score(best.actions, show=True, wt=0.001)\n",
    "env.close()"
   ]
  }
 ],
 "metadata": {
  "kernelspec": {
   "display_name": "Python 3",
   "language": "python",
   "name": "python3"
  },
  "language_info": {
   "codemirror_mode": {
    "name": "ipython",
    "version": 3
   },
   "file_extension": ".py",
   "mimetype": "text/x-python",
   "name": "python",
   "nbconvert_exporter": "python",
   "pygments_lexer": "ipython3",
   "version": "3.10.12"
  }
 },
 "nbformat": 4,
 "nbformat_minor": 2
}
